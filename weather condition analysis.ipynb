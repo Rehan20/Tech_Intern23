{
 "cells": [
  {
   "cell_type": "code",
   "execution_count": 1,
   "id": "6b07076f",
   "metadata": {
    "execution": {
     "iopub.execute_input": "2022-02-20T19:21:11.448276Z",
     "iopub.status.busy": "2022-02-20T19:21:11.447618Z",
     "iopub.status.idle": "2022-02-20T19:21:12.486776Z",
     "shell.execute_reply": "2022-02-20T19:21:12.486086Z",
     "shell.execute_reply.started": "2022-02-20T19:15:44.933663Z"
    },
    "papermill": {
     "duration": 1.081142,
     "end_time": "2022-02-20T19:21:12.486949",
     "exception": false,
     "start_time": "2022-02-20T19:21:11.405807",
     "status": "completed"
    },
    "tags": []
   },
   "outputs": [],
   "source": [
    "import pandas as pd\n",
    "import numpy as np\n",
    "import matplotlib.pyplot as plt\n",
    "import seaborn as sns \n",
    "from importlib import reload\n",
    "plt=reload(plt)"
   ]
  },
  {
   "cell_type": "code",
   "execution_count": 2,
   "id": "c07aee53",
   "metadata": {
    "execution": {
     "iopub.execute_input": "2022-02-20T19:21:12.560767Z",
     "iopub.status.busy": "2022-02-20T19:21:12.560052Z",
     "iopub.status.idle": "2022-02-20T19:21:13.040768Z",
     "shell.execute_reply": "2022-02-20T19:21:13.041498Z",
     "shell.execute_reply.started": "2022-02-20T19:17:35.447422Z"
    },
    "papermill": {
     "duration": 0.520569,
     "end_time": "2022-02-20T19:21:13.041691",
     "exception": false,
     "start_time": "2022-02-20T19:21:12.521122",
     "status": "completed"
    },
    "tags": []
   },
   "outputs": [
    {
     "data": {
      "text/html": [
       "<div>\n",
       "<style scoped>\n",
       "    .dataframe tbody tr th:only-of-type {\n",
       "        vertical-align: middle;\n",
       "    }\n",
       "\n",
       "    .dataframe tbody tr th {\n",
       "        vertical-align: top;\n",
       "    }\n",
       "\n",
       "    .dataframe thead th {\n",
       "        text-align: right;\n",
       "    }\n",
       "</style>\n",
       "<table border=\"1\" class=\"dataframe\">\n",
       "  <thead>\n",
       "    <tr style=\"text-align: right;\">\n",
       "      <th></th>\n",
       "      <th>Formatted Date</th>\n",
       "      <th>Summary</th>\n",
       "      <th>Precip Type</th>\n",
       "      <th>Temperature (C)</th>\n",
       "      <th>Apparent Temperature (C)</th>\n",
       "      <th>Humidity</th>\n",
       "      <th>Wind Speed (km/h)</th>\n",
       "      <th>Wind Bearing (degrees)</th>\n",
       "      <th>Visibility (km)</th>\n",
       "      <th>Loud Cover</th>\n",
       "      <th>Pressure (millibars)</th>\n",
       "      <th>Daily Summary</th>\n",
       "    </tr>\n",
       "  </thead>\n",
       "  <tbody>\n",
       "    <tr>\n",
       "      <th>0</th>\n",
       "      <td>2006-04-01 00:00:00.000 +0200</td>\n",
       "      <td>Partly Cloudy</td>\n",
       "      <td>rain</td>\n",
       "      <td>9.472222</td>\n",
       "      <td>7.388889</td>\n",
       "      <td>0.89</td>\n",
       "      <td>14.1197</td>\n",
       "      <td>251.0</td>\n",
       "      <td>15.8263</td>\n",
       "      <td>0.0</td>\n",
       "      <td>1015.13</td>\n",
       "      <td>Partly cloudy throughout the day.</td>\n",
       "    </tr>\n",
       "    <tr>\n",
       "      <th>1</th>\n",
       "      <td>2006-04-01 01:00:00.000 +0200</td>\n",
       "      <td>Partly Cloudy</td>\n",
       "      <td>rain</td>\n",
       "      <td>9.355556</td>\n",
       "      <td>7.227778</td>\n",
       "      <td>0.86</td>\n",
       "      <td>14.2646</td>\n",
       "      <td>259.0</td>\n",
       "      <td>15.8263</td>\n",
       "      <td>0.0</td>\n",
       "      <td>1015.63</td>\n",
       "      <td>Partly cloudy throughout the day.</td>\n",
       "    </tr>\n",
       "    <tr>\n",
       "      <th>2</th>\n",
       "      <td>2006-04-01 02:00:00.000 +0200</td>\n",
       "      <td>Mostly Cloudy</td>\n",
       "      <td>rain</td>\n",
       "      <td>9.377778</td>\n",
       "      <td>9.377778</td>\n",
       "      <td>0.89</td>\n",
       "      <td>3.9284</td>\n",
       "      <td>204.0</td>\n",
       "      <td>14.9569</td>\n",
       "      <td>0.0</td>\n",
       "      <td>1015.94</td>\n",
       "      <td>Partly cloudy throughout the day.</td>\n",
       "    </tr>\n",
       "    <tr>\n",
       "      <th>3</th>\n",
       "      <td>2006-04-01 03:00:00.000 +0200</td>\n",
       "      <td>Partly Cloudy</td>\n",
       "      <td>rain</td>\n",
       "      <td>8.288889</td>\n",
       "      <td>5.944444</td>\n",
       "      <td>0.83</td>\n",
       "      <td>14.1036</td>\n",
       "      <td>269.0</td>\n",
       "      <td>15.8263</td>\n",
       "      <td>0.0</td>\n",
       "      <td>1016.41</td>\n",
       "      <td>Partly cloudy throughout the day.</td>\n",
       "    </tr>\n",
       "    <tr>\n",
       "      <th>4</th>\n",
       "      <td>2006-04-01 04:00:00.000 +0200</td>\n",
       "      <td>Mostly Cloudy</td>\n",
       "      <td>rain</td>\n",
       "      <td>8.755556</td>\n",
       "      <td>6.977778</td>\n",
       "      <td>0.83</td>\n",
       "      <td>11.0446</td>\n",
       "      <td>259.0</td>\n",
       "      <td>15.8263</td>\n",
       "      <td>0.0</td>\n",
       "      <td>1016.51</td>\n",
       "      <td>Partly cloudy throughout the day.</td>\n",
       "    </tr>\n",
       "  </tbody>\n",
       "</table>\n",
       "</div>"
      ],
      "text/plain": [
       "                  Formatted Date        Summary Precip Type  Temperature (C)  \\\n",
       "0  2006-04-01 00:00:00.000 +0200  Partly Cloudy        rain         9.472222   \n",
       "1  2006-04-01 01:00:00.000 +0200  Partly Cloudy        rain         9.355556   \n",
       "2  2006-04-01 02:00:00.000 +0200  Mostly Cloudy        rain         9.377778   \n",
       "3  2006-04-01 03:00:00.000 +0200  Partly Cloudy        rain         8.288889   \n",
       "4  2006-04-01 04:00:00.000 +0200  Mostly Cloudy        rain         8.755556   \n",
       "\n",
       "   Apparent Temperature (C)  Humidity  Wind Speed (km/h)  \\\n",
       "0                  7.388889      0.89            14.1197   \n",
       "1                  7.227778      0.86            14.2646   \n",
       "2                  9.377778      0.89             3.9284   \n",
       "3                  5.944444      0.83            14.1036   \n",
       "4                  6.977778      0.83            11.0446   \n",
       "\n",
       "   Wind Bearing (degrees)  Visibility (km)  Loud Cover  Pressure (millibars)  \\\n",
       "0                   251.0          15.8263         0.0               1015.13   \n",
       "1                   259.0          15.8263         0.0               1015.63   \n",
       "2                   204.0          14.9569         0.0               1015.94   \n",
       "3                   269.0          15.8263         0.0               1016.41   \n",
       "4                   259.0          15.8263         0.0               1016.51   \n",
       "\n",
       "                       Daily Summary  \n",
       "0  Partly cloudy throughout the day.  \n",
       "1  Partly cloudy throughout the day.  \n",
       "2  Partly cloudy throughout the day.  \n",
       "3  Partly cloudy throughout the day.  \n",
       "4  Partly cloudy throughout the day.  "
      ]
     },
     "execution_count": 2,
     "metadata": {},
     "output_type": "execute_result"
    }
   ],
   "source": [
    "df=pd.read_csv(r\"C:\\Users\\imreh\\Desktop\\Tech-Intern Internship\\weatherHistory.csv\")\n",
    "df.head()"
   ]
  },
  {
   "cell_type": "markdown",
   "id": "9ffc6f79",
   "metadata": {
    "papermill": {
     "duration": 0.033937,
     "end_time": "2022-02-20T19:21:13.109854",
     "exception": false,
     "start_time": "2022-02-20T19:21:13.075917",
     "status": "completed"
    },
    "tags": []
   },
   "source": [
    "#### Exploring the data"
   ]
  },
  {
   "cell_type": "code",
   "execution_count": 3,
   "id": "e9b01e8e",
   "metadata": {
    "execution": {
     "iopub.execute_input": "2022-02-20T19:21:13.182550Z",
     "iopub.status.busy": "2022-02-20T19:21:13.181833Z",
     "iopub.status.idle": "2022-02-20T19:21:13.250521Z",
     "shell.execute_reply": "2022-02-20T19:21:13.251212Z",
     "shell.execute_reply.started": "2022-02-20T19:17:42.246853Z"
    },
    "papermill": {
     "duration": 0.1078,
     "end_time": "2022-02-20T19:21:13.251466",
     "exception": false,
     "start_time": "2022-02-20T19:21:13.143666",
     "status": "completed"
    },
    "tags": []
   },
   "outputs": [
    {
     "name": "stdout",
     "output_type": "stream",
     "text": [
      "<class 'pandas.core.frame.DataFrame'>\n",
      "RangeIndex: 96453 entries, 0 to 96452\n",
      "Data columns (total 12 columns):\n",
      " #   Column                    Non-Null Count  Dtype  \n",
      "---  ------                    --------------  -----  \n",
      " 0   Formatted Date            96453 non-null  object \n",
      " 1   Summary                   96453 non-null  object \n",
      " 2   Precip Type               95936 non-null  object \n",
      " 3   Temperature (C)           96453 non-null  float64\n",
      " 4   Apparent Temperature (C)  96453 non-null  float64\n",
      " 5   Humidity                  96453 non-null  float64\n",
      " 6   Wind Speed (km/h)         96453 non-null  float64\n",
      " 7   Wind Bearing (degrees)    96453 non-null  float64\n",
      " 8   Visibility (km)           96453 non-null  float64\n",
      " 9   Loud Cover                96453 non-null  float64\n",
      " 10  Pressure (millibars)      96453 non-null  float64\n",
      " 11  Daily Summary             96453 non-null  object \n",
      "dtypes: float64(8), object(4)\n",
      "memory usage: 8.8+ MB\n"
     ]
    }
   ],
   "source": [
    "df.info()"
   ]
  },
  {
   "cell_type": "code",
   "execution_count": 4,
   "id": "5a8aca02",
   "metadata": {
    "execution": {
     "iopub.execute_input": "2022-02-20T19:21:13.335744Z",
     "iopub.status.busy": "2022-02-20T19:21:13.334679Z",
     "iopub.status.idle": "2022-02-20T19:21:13.387787Z",
     "shell.execute_reply": "2022-02-20T19:21:13.387255Z",
     "shell.execute_reply.started": "2022-02-20T19:17:50.631727Z"
    },
    "papermill": {
     "duration": 0.099954,
     "end_time": "2022-02-20T19:21:13.387931",
     "exception": false,
     "start_time": "2022-02-20T19:21:13.287977",
     "status": "completed"
    },
    "tags": []
   },
   "outputs": [
    {
     "data": {
      "text/html": [
       "<div>\n",
       "<style scoped>\n",
       "    .dataframe tbody tr th:only-of-type {\n",
       "        vertical-align: middle;\n",
       "    }\n",
       "\n",
       "    .dataframe tbody tr th {\n",
       "        vertical-align: top;\n",
       "    }\n",
       "\n",
       "    .dataframe thead th {\n",
       "        text-align: right;\n",
       "    }\n",
       "</style>\n",
       "<table border=\"1\" class=\"dataframe\">\n",
       "  <thead>\n",
       "    <tr style=\"text-align: right;\">\n",
       "      <th></th>\n",
       "      <th>Temperature (C)</th>\n",
       "      <th>Apparent Temperature (C)</th>\n",
       "      <th>Humidity</th>\n",
       "      <th>Wind Speed (km/h)</th>\n",
       "      <th>Wind Bearing (degrees)</th>\n",
       "      <th>Visibility (km)</th>\n",
       "      <th>Loud Cover</th>\n",
       "      <th>Pressure (millibars)</th>\n",
       "    </tr>\n",
       "  </thead>\n",
       "  <tbody>\n",
       "    <tr>\n",
       "      <th>count</th>\n",
       "      <td>96453.000000</td>\n",
       "      <td>96453.000000</td>\n",
       "      <td>96453.000000</td>\n",
       "      <td>96453.000000</td>\n",
       "      <td>96453.000000</td>\n",
       "      <td>96453.000000</td>\n",
       "      <td>96453.0</td>\n",
       "      <td>96453.000000</td>\n",
       "    </tr>\n",
       "    <tr>\n",
       "      <th>mean</th>\n",
       "      <td>11.932678</td>\n",
       "      <td>10.855029</td>\n",
       "      <td>0.734899</td>\n",
       "      <td>10.810640</td>\n",
       "      <td>187.509232</td>\n",
       "      <td>10.347325</td>\n",
       "      <td>0.0</td>\n",
       "      <td>1003.235956</td>\n",
       "    </tr>\n",
       "    <tr>\n",
       "      <th>std</th>\n",
       "      <td>9.551546</td>\n",
       "      <td>10.696847</td>\n",
       "      <td>0.195473</td>\n",
       "      <td>6.913571</td>\n",
       "      <td>107.383428</td>\n",
       "      <td>4.192123</td>\n",
       "      <td>0.0</td>\n",
       "      <td>116.969906</td>\n",
       "    </tr>\n",
       "    <tr>\n",
       "      <th>min</th>\n",
       "      <td>-21.822222</td>\n",
       "      <td>-27.716667</td>\n",
       "      <td>0.000000</td>\n",
       "      <td>0.000000</td>\n",
       "      <td>0.000000</td>\n",
       "      <td>0.000000</td>\n",
       "      <td>0.0</td>\n",
       "      <td>0.000000</td>\n",
       "    </tr>\n",
       "    <tr>\n",
       "      <th>25%</th>\n",
       "      <td>4.688889</td>\n",
       "      <td>2.311111</td>\n",
       "      <td>0.600000</td>\n",
       "      <td>5.828200</td>\n",
       "      <td>116.000000</td>\n",
       "      <td>8.339800</td>\n",
       "      <td>0.0</td>\n",
       "      <td>1011.900000</td>\n",
       "    </tr>\n",
       "    <tr>\n",
       "      <th>50%</th>\n",
       "      <td>12.000000</td>\n",
       "      <td>12.000000</td>\n",
       "      <td>0.780000</td>\n",
       "      <td>9.965900</td>\n",
       "      <td>180.000000</td>\n",
       "      <td>10.046400</td>\n",
       "      <td>0.0</td>\n",
       "      <td>1016.450000</td>\n",
       "    </tr>\n",
       "    <tr>\n",
       "      <th>75%</th>\n",
       "      <td>18.838889</td>\n",
       "      <td>18.838889</td>\n",
       "      <td>0.890000</td>\n",
       "      <td>14.135800</td>\n",
       "      <td>290.000000</td>\n",
       "      <td>14.812000</td>\n",
       "      <td>0.0</td>\n",
       "      <td>1021.090000</td>\n",
       "    </tr>\n",
       "    <tr>\n",
       "      <th>max</th>\n",
       "      <td>39.905556</td>\n",
       "      <td>39.344444</td>\n",
       "      <td>1.000000</td>\n",
       "      <td>63.852600</td>\n",
       "      <td>359.000000</td>\n",
       "      <td>16.100000</td>\n",
       "      <td>0.0</td>\n",
       "      <td>1046.380000</td>\n",
       "    </tr>\n",
       "  </tbody>\n",
       "</table>\n",
       "</div>"
      ],
      "text/plain": [
       "       Temperature (C)  Apparent Temperature (C)      Humidity  \\\n",
       "count     96453.000000              96453.000000  96453.000000   \n",
       "mean         11.932678                 10.855029      0.734899   \n",
       "std           9.551546                 10.696847      0.195473   \n",
       "min         -21.822222                -27.716667      0.000000   \n",
       "25%           4.688889                  2.311111      0.600000   \n",
       "50%          12.000000                 12.000000      0.780000   \n",
       "75%          18.838889                 18.838889      0.890000   \n",
       "max          39.905556                 39.344444      1.000000   \n",
       "\n",
       "       Wind Speed (km/h)  Wind Bearing (degrees)  Visibility (km)  Loud Cover  \\\n",
       "count       96453.000000            96453.000000     96453.000000     96453.0   \n",
       "mean           10.810640              187.509232        10.347325         0.0   \n",
       "std             6.913571              107.383428         4.192123         0.0   \n",
       "min             0.000000                0.000000         0.000000         0.0   \n",
       "25%             5.828200              116.000000         8.339800         0.0   \n",
       "50%             9.965900              180.000000        10.046400         0.0   \n",
       "75%            14.135800              290.000000        14.812000         0.0   \n",
       "max            63.852600              359.000000        16.100000         0.0   \n",
       "\n",
       "       Pressure (millibars)  \n",
       "count          96453.000000  \n",
       "mean            1003.235956  \n",
       "std              116.969906  \n",
       "min                0.000000  \n",
       "25%             1011.900000  \n",
       "50%             1016.450000  \n",
       "75%             1021.090000  \n",
       "max             1046.380000  "
      ]
     },
     "execution_count": 4,
     "metadata": {},
     "output_type": "execute_result"
    }
   ],
   "source": [
    "df.describe()"
   ]
  },
  {
   "cell_type": "code",
   "execution_count": 5,
   "id": "97a209b1",
   "metadata": {
    "execution": {
     "iopub.execute_input": "2022-02-20T19:21:13.464124Z",
     "iopub.status.busy": "2022-02-20T19:21:13.463449Z",
     "iopub.status.idle": "2022-02-20T19:21:13.630139Z",
     "shell.execute_reply": "2022-02-20T19:21:13.629615Z",
     "shell.execute_reply.started": "2022-02-20T19:17:55.118457Z"
    },
    "papermill": {
     "duration": 0.207414,
     "end_time": "2022-02-20T19:21:13.630271",
     "exception": false,
     "start_time": "2022-02-20T19:21:13.422857",
     "status": "completed"
    },
    "tags": []
   },
   "outputs": [
    {
     "data": {
      "text/html": [
       "<div>\n",
       "<style scoped>\n",
       "    .dataframe tbody tr th:only-of-type {\n",
       "        vertical-align: middle;\n",
       "    }\n",
       "\n",
       "    .dataframe tbody tr th {\n",
       "        vertical-align: top;\n",
       "    }\n",
       "\n",
       "    .dataframe thead th {\n",
       "        text-align: right;\n",
       "    }\n",
       "</style>\n",
       "<table border=\"1\" class=\"dataframe\">\n",
       "  <thead>\n",
       "    <tr style=\"text-align: right;\">\n",
       "      <th></th>\n",
       "      <th>Formatted Date</th>\n",
       "      <th>Summary</th>\n",
       "      <th>Precip Type</th>\n",
       "      <th>Daily Summary</th>\n",
       "    </tr>\n",
       "  </thead>\n",
       "  <tbody>\n",
       "    <tr>\n",
       "      <th>count</th>\n",
       "      <td>96453</td>\n",
       "      <td>96453</td>\n",
       "      <td>95936</td>\n",
       "      <td>96453</td>\n",
       "    </tr>\n",
       "    <tr>\n",
       "      <th>unique</th>\n",
       "      <td>96429</td>\n",
       "      <td>27</td>\n",
       "      <td>2</td>\n",
       "      <td>214</td>\n",
       "    </tr>\n",
       "    <tr>\n",
       "      <th>top</th>\n",
       "      <td>2010-08-02 00:00:00.000 +0200</td>\n",
       "      <td>Partly Cloudy</td>\n",
       "      <td>rain</td>\n",
       "      <td>Mostly cloudy throughout the day.</td>\n",
       "    </tr>\n",
       "    <tr>\n",
       "      <th>freq</th>\n",
       "      <td>2</td>\n",
       "      <td>31733</td>\n",
       "      <td>85224</td>\n",
       "      <td>20085</td>\n",
       "    </tr>\n",
       "  </tbody>\n",
       "</table>\n",
       "</div>"
      ],
      "text/plain": [
       "                       Formatted Date        Summary Precip Type  \\\n",
       "count                           96453          96453       95936   \n",
       "unique                          96429             27           2   \n",
       "top     2010-08-02 00:00:00.000 +0200  Partly Cloudy        rain   \n",
       "freq                                2          31733       85224   \n",
       "\n",
       "                            Daily Summary  \n",
       "count                               96453  \n",
       "unique                                214  \n",
       "top     Mostly cloudy throughout the day.  \n",
       "freq                                20085  "
      ]
     },
     "execution_count": 5,
     "metadata": {},
     "output_type": "execute_result"
    }
   ],
   "source": [
    "df.describe(include=\"O\")"
   ]
  },
  {
   "cell_type": "markdown",
   "id": "b760f093",
   "metadata": {
    "papermill": {
     "duration": 0.034913,
     "end_time": "2022-02-20T19:21:13.700567",
     "exception": false,
     "start_time": "2022-02-20T19:21:13.665654",
     "status": "completed"
    },
    "tags": []
   },
   "source": [
    "#### Date-Time Breaking down"
   ]
  },
  {
   "cell_type": "code",
   "execution_count": 6,
   "id": "81e4303d",
   "metadata": {
    "execution": {
     "iopub.execute_input": "2022-02-20T19:21:13.774300Z",
     "iopub.status.busy": "2022-02-20T19:21:13.773537Z",
     "iopub.status.idle": "2022-02-20T19:21:14.104461Z",
     "shell.execute_reply": "2022-02-20T19:21:14.104963Z",
     "shell.execute_reply.started": "2022-02-20T19:18:03.064110Z"
    },
    "papermill": {
     "duration": 0.36955,
     "end_time": "2022-02-20T19:21:14.105134",
     "exception": false,
     "start_time": "2022-02-20T19:21:13.735584",
     "status": "completed"
    },
    "tags": []
   },
   "outputs": [
    {
     "data": {
      "text/html": [
       "<div>\n",
       "<style scoped>\n",
       "    .dataframe tbody tr th:only-of-type {\n",
       "        vertical-align: middle;\n",
       "    }\n",
       "\n",
       "    .dataframe tbody tr th {\n",
       "        vertical-align: top;\n",
       "    }\n",
       "\n",
       "    .dataframe thead th {\n",
       "        text-align: right;\n",
       "    }\n",
       "</style>\n",
       "<table border=\"1\" class=\"dataframe\">\n",
       "  <thead>\n",
       "    <tr style=\"text-align: right;\">\n",
       "      <th></th>\n",
       "      <th>Summary</th>\n",
       "      <th>Precip Type</th>\n",
       "      <th>Temperature (C)</th>\n",
       "      <th>Apparent Temperature (C)</th>\n",
       "      <th>Humidity</th>\n",
       "      <th>Wind Speed (km/h)</th>\n",
       "      <th>Wind Bearing (degrees)</th>\n",
       "      <th>Visibility (km)</th>\n",
       "      <th>Loud Cover</th>\n",
       "      <th>Pressure (millibars)</th>\n",
       "      <th>Daily Summary</th>\n",
       "      <th>Date-Time</th>\n",
       "      <th>TZ</th>\n",
       "    </tr>\n",
       "  </thead>\n",
       "  <tbody>\n",
       "    <tr>\n",
       "      <th>0</th>\n",
       "      <td>Partly Cloudy</td>\n",
       "      <td>rain</td>\n",
       "      <td>9.472222</td>\n",
       "      <td>7.388889</td>\n",
       "      <td>0.89</td>\n",
       "      <td>14.1197</td>\n",
       "      <td>251.0</td>\n",
       "      <td>15.8263</td>\n",
       "      <td>0.0</td>\n",
       "      <td>1015.13</td>\n",
       "      <td>Partly cloudy throughout the day.</td>\n",
       "      <td>2006-04-01 00:00:00.000</td>\n",
       "      <td>0200</td>\n",
       "    </tr>\n",
       "    <tr>\n",
       "      <th>1</th>\n",
       "      <td>Partly Cloudy</td>\n",
       "      <td>rain</td>\n",
       "      <td>9.355556</td>\n",
       "      <td>7.227778</td>\n",
       "      <td>0.86</td>\n",
       "      <td>14.2646</td>\n",
       "      <td>259.0</td>\n",
       "      <td>15.8263</td>\n",
       "      <td>0.0</td>\n",
       "      <td>1015.63</td>\n",
       "      <td>Partly cloudy throughout the day.</td>\n",
       "      <td>2006-04-01 01:00:00.000</td>\n",
       "      <td>0200</td>\n",
       "    </tr>\n",
       "    <tr>\n",
       "      <th>2</th>\n",
       "      <td>Mostly Cloudy</td>\n",
       "      <td>rain</td>\n",
       "      <td>9.377778</td>\n",
       "      <td>9.377778</td>\n",
       "      <td>0.89</td>\n",
       "      <td>3.9284</td>\n",
       "      <td>204.0</td>\n",
       "      <td>14.9569</td>\n",
       "      <td>0.0</td>\n",
       "      <td>1015.94</td>\n",
       "      <td>Partly cloudy throughout the day.</td>\n",
       "      <td>2006-04-01 02:00:00.000</td>\n",
       "      <td>0200</td>\n",
       "    </tr>\n",
       "    <tr>\n",
       "      <th>3</th>\n",
       "      <td>Partly Cloudy</td>\n",
       "      <td>rain</td>\n",
       "      <td>8.288889</td>\n",
       "      <td>5.944444</td>\n",
       "      <td>0.83</td>\n",
       "      <td>14.1036</td>\n",
       "      <td>269.0</td>\n",
       "      <td>15.8263</td>\n",
       "      <td>0.0</td>\n",
       "      <td>1016.41</td>\n",
       "      <td>Partly cloudy throughout the day.</td>\n",
       "      <td>2006-04-01 03:00:00.000</td>\n",
       "      <td>0200</td>\n",
       "    </tr>\n",
       "    <tr>\n",
       "      <th>4</th>\n",
       "      <td>Mostly Cloudy</td>\n",
       "      <td>rain</td>\n",
       "      <td>8.755556</td>\n",
       "      <td>6.977778</td>\n",
       "      <td>0.83</td>\n",
       "      <td>11.0446</td>\n",
       "      <td>259.0</td>\n",
       "      <td>15.8263</td>\n",
       "      <td>0.0</td>\n",
       "      <td>1016.51</td>\n",
       "      <td>Partly cloudy throughout the day.</td>\n",
       "      <td>2006-04-01 04:00:00.000</td>\n",
       "      <td>0200</td>\n",
       "    </tr>\n",
       "  </tbody>\n",
       "</table>\n",
       "</div>"
      ],
      "text/plain": [
       "         Summary Precip Type  Temperature (C)  Apparent Temperature (C)  \\\n",
       "0  Partly Cloudy        rain         9.472222                  7.388889   \n",
       "1  Partly Cloudy        rain         9.355556                  7.227778   \n",
       "2  Mostly Cloudy        rain         9.377778                  9.377778   \n",
       "3  Partly Cloudy        rain         8.288889                  5.944444   \n",
       "4  Mostly Cloudy        rain         8.755556                  6.977778   \n",
       "\n",
       "   Humidity  Wind Speed (km/h)  Wind Bearing (degrees)  Visibility (km)  \\\n",
       "0      0.89            14.1197                   251.0          15.8263   \n",
       "1      0.86            14.2646                   259.0          15.8263   \n",
       "2      0.89             3.9284                   204.0          14.9569   \n",
       "3      0.83            14.1036                   269.0          15.8263   \n",
       "4      0.83            11.0446                   259.0          15.8263   \n",
       "\n",
       "   Loud Cover  Pressure (millibars)                      Daily Summary  \\\n",
       "0         0.0               1015.13  Partly cloudy throughout the day.   \n",
       "1         0.0               1015.63  Partly cloudy throughout the day.   \n",
       "2         0.0               1015.94  Partly cloudy throughout the day.   \n",
       "3         0.0               1016.41  Partly cloudy throughout the day.   \n",
       "4         0.0               1016.51  Partly cloudy throughout the day.   \n",
       "\n",
       "                  Date-Time    TZ  \n",
       "0  2006-04-01 00:00:00.000   0200  \n",
       "1  2006-04-01 01:00:00.000   0200  \n",
       "2  2006-04-01 02:00:00.000   0200  \n",
       "3  2006-04-01 03:00:00.000   0200  \n",
       "4  2006-04-01 04:00:00.000   0200  "
      ]
     },
     "execution_count": 6,
     "metadata": {},
     "output_type": "execute_result"
    }
   ],
   "source": [
    "df[[\"Date-Time\",\"TZ\"]]=df[\"Formatted Date\"].str.split(\"+\",expand=True)\n",
    "df1=df.drop(columns=\"Formatted Date\")\n",
    "df1.head()"
   ]
  },
  {
   "cell_type": "code",
   "execution_count": 7,
   "id": "a2078821",
   "metadata": {
    "execution": {
     "iopub.execute_input": "2022-02-20T19:21:14.180767Z",
     "iopub.status.busy": "2022-02-20T19:21:14.179756Z",
     "iopub.status.idle": "2022-02-20T19:21:14.220498Z",
     "shell.execute_reply": "2022-02-20T19:21:14.219947Z",
     "shell.execute_reply.started": "2022-02-20T19:18:10.928464Z"
    },
    "papermill": {
     "duration": 0.079857,
     "end_time": "2022-02-20T19:21:14.220637",
     "exception": false,
     "start_time": "2022-02-20T19:21:14.140780",
     "status": "completed"
    },
    "tags": []
   },
   "outputs": [
    {
     "data": {
      "text/html": [
       "<div>\n",
       "<style scoped>\n",
       "    .dataframe tbody tr th:only-of-type {\n",
       "        vertical-align: middle;\n",
       "    }\n",
       "\n",
       "    .dataframe tbody tr th {\n",
       "        vertical-align: top;\n",
       "    }\n",
       "\n",
       "    .dataframe thead th {\n",
       "        text-align: right;\n",
       "    }\n",
       "</style>\n",
       "<table border=\"1\" class=\"dataframe\">\n",
       "  <thead>\n",
       "    <tr style=\"text-align: right;\">\n",
       "      <th></th>\n",
       "      <th>Date-Time</th>\n",
       "      <th>Summary</th>\n",
       "      <th>Precip Type</th>\n",
       "      <th>Temperature (C)</th>\n",
       "      <th>Apparent Temperature (C)</th>\n",
       "      <th>Humidity</th>\n",
       "      <th>Wind Speed (km/h)</th>\n",
       "      <th>Wind Bearing (degrees)</th>\n",
       "      <th>Visibility (km)</th>\n",
       "      <th>Loud Cover</th>\n",
       "      <th>Pressure (millibars)</th>\n",
       "      <th>Daily Summary</th>\n",
       "    </tr>\n",
       "  </thead>\n",
       "  <tbody>\n",
       "    <tr>\n",
       "      <th>0</th>\n",
       "      <td>2006-04-01 00:00:00.000</td>\n",
       "      <td>Partly Cloudy</td>\n",
       "      <td>rain</td>\n",
       "      <td>9.472222</td>\n",
       "      <td>7.388889</td>\n",
       "      <td>0.89</td>\n",
       "      <td>14.1197</td>\n",
       "      <td>251.0</td>\n",
       "      <td>15.8263</td>\n",
       "      <td>0.0</td>\n",
       "      <td>1015.13</td>\n",
       "      <td>Partly cloudy throughout the day.</td>\n",
       "    </tr>\n",
       "    <tr>\n",
       "      <th>1</th>\n",
       "      <td>2006-04-01 01:00:00.000</td>\n",
       "      <td>Partly Cloudy</td>\n",
       "      <td>rain</td>\n",
       "      <td>9.355556</td>\n",
       "      <td>7.227778</td>\n",
       "      <td>0.86</td>\n",
       "      <td>14.2646</td>\n",
       "      <td>259.0</td>\n",
       "      <td>15.8263</td>\n",
       "      <td>0.0</td>\n",
       "      <td>1015.63</td>\n",
       "      <td>Partly cloudy throughout the day.</td>\n",
       "    </tr>\n",
       "    <tr>\n",
       "      <th>2</th>\n",
       "      <td>2006-04-01 02:00:00.000</td>\n",
       "      <td>Mostly Cloudy</td>\n",
       "      <td>rain</td>\n",
       "      <td>9.377778</td>\n",
       "      <td>9.377778</td>\n",
       "      <td>0.89</td>\n",
       "      <td>3.9284</td>\n",
       "      <td>204.0</td>\n",
       "      <td>14.9569</td>\n",
       "      <td>0.0</td>\n",
       "      <td>1015.94</td>\n",
       "      <td>Partly cloudy throughout the day.</td>\n",
       "    </tr>\n",
       "    <tr>\n",
       "      <th>3</th>\n",
       "      <td>2006-04-01 03:00:00.000</td>\n",
       "      <td>Partly Cloudy</td>\n",
       "      <td>rain</td>\n",
       "      <td>8.288889</td>\n",
       "      <td>5.944444</td>\n",
       "      <td>0.83</td>\n",
       "      <td>14.1036</td>\n",
       "      <td>269.0</td>\n",
       "      <td>15.8263</td>\n",
       "      <td>0.0</td>\n",
       "      <td>1016.41</td>\n",
       "      <td>Partly cloudy throughout the day.</td>\n",
       "    </tr>\n",
       "    <tr>\n",
       "      <th>4</th>\n",
       "      <td>2006-04-01 04:00:00.000</td>\n",
       "      <td>Mostly Cloudy</td>\n",
       "      <td>rain</td>\n",
       "      <td>8.755556</td>\n",
       "      <td>6.977778</td>\n",
       "      <td>0.83</td>\n",
       "      <td>11.0446</td>\n",
       "      <td>259.0</td>\n",
       "      <td>15.8263</td>\n",
       "      <td>0.0</td>\n",
       "      <td>1016.51</td>\n",
       "      <td>Partly cloudy throughout the day.</td>\n",
       "    </tr>\n",
       "  </tbody>\n",
       "</table>\n",
       "</div>"
      ],
      "text/plain": [
       "                  Date-Time        Summary Precip Type  Temperature (C)  \\\n",
       "0  2006-04-01 00:00:00.000   Partly Cloudy        rain         9.472222   \n",
       "1  2006-04-01 01:00:00.000   Partly Cloudy        rain         9.355556   \n",
       "2  2006-04-01 02:00:00.000   Mostly Cloudy        rain         9.377778   \n",
       "3  2006-04-01 03:00:00.000   Partly Cloudy        rain         8.288889   \n",
       "4  2006-04-01 04:00:00.000   Mostly Cloudy        rain         8.755556   \n",
       "\n",
       "   Apparent Temperature (C)  Humidity  Wind Speed (km/h)  \\\n",
       "0                  7.388889      0.89            14.1197   \n",
       "1                  7.227778      0.86            14.2646   \n",
       "2                  9.377778      0.89             3.9284   \n",
       "3                  5.944444      0.83            14.1036   \n",
       "4                  6.977778      0.83            11.0446   \n",
       "\n",
       "   Wind Bearing (degrees)  Visibility (km)  Loud Cover  Pressure (millibars)  \\\n",
       "0                   251.0          15.8263         0.0               1015.13   \n",
       "1                   259.0          15.8263         0.0               1015.63   \n",
       "2                   204.0          14.9569         0.0               1015.94   \n",
       "3                   269.0          15.8263         0.0               1016.41   \n",
       "4                   259.0          15.8263         0.0               1016.51   \n",
       "\n",
       "                       Daily Summary  \n",
       "0  Partly cloudy throughout the day.  \n",
       "1  Partly cloudy throughout the day.  \n",
       "2  Partly cloudy throughout the day.  \n",
       "3  Partly cloudy throughout the day.  \n",
       "4  Partly cloudy throughout the day.  "
      ]
     },
     "execution_count": 7,
     "metadata": {},
     "output_type": "execute_result"
    }
   ],
   "source": [
    "columns_order=[\"Date-Time\",\"TZ\",\"Summary\",\"Precip Type\",\"Temperature (C)\",\"Apparent Temperature (C)\",\n",
    "                \"Humidity\",\"Wind Speed (km/h)\",\"Wind Bearing (degrees)\",\"Visibility (km)\",\"Loud Cover\",\n",
    "                \"Pressure (millibars)\", \"Daily Summary\"]\n",
    "df2=df1.reindex(columns=columns_order)\n",
    "df3=df2.drop(columns=\"TZ\")\n",
    "df3.head()"
   ]
  },
  {
   "cell_type": "code",
   "execution_count": 8,
   "id": "aed91bf1",
   "metadata": {
    "execution": {
     "iopub.execute_input": "2022-02-20T19:21:14.336509Z",
     "iopub.status.busy": "2022-02-20T19:21:14.335399Z",
     "iopub.status.idle": "2022-02-20T19:21:14.383868Z",
     "shell.execute_reply": "2022-02-20T19:21:14.384401Z",
     "shell.execute_reply.started": "2022-02-20T19:18:16.263698Z"
    },
    "papermill": {
     "duration": 0.127286,
     "end_time": "2022-02-20T19:21:14.384576",
     "exception": false,
     "start_time": "2022-02-20T19:21:14.257290",
     "status": "completed"
    },
    "tags": []
   },
   "outputs": [
    {
     "name": "stdout",
     "output_type": "stream",
     "text": [
      "<class 'pandas.core.frame.DataFrame'>\n",
      "RangeIndex: 96453 entries, 0 to 96452\n",
      "Data columns (total 12 columns):\n",
      " #   Column                    Non-Null Count  Dtype         \n",
      "---  ------                    --------------  -----         \n",
      " 0   Date-Time                 96453 non-null  datetime64[ns]\n",
      " 1   Summary                   96453 non-null  object        \n",
      " 2   Precip Type               95936 non-null  object        \n",
      " 3   Temperature (C)           96453 non-null  float64       \n",
      " 4   Apparent Temperature (C)  96453 non-null  float64       \n",
      " 5   Humidity                  96453 non-null  float64       \n",
      " 6   Wind Speed (km/h)         96453 non-null  float64       \n",
      " 7   Wind Bearing (degrees)    96453 non-null  float64       \n",
      " 8   Visibility (km)           96453 non-null  float64       \n",
      " 9   Loud Cover                96453 non-null  float64       \n",
      " 10  Pressure (millibars)      96453 non-null  float64       \n",
      " 11  Daily Summary             96453 non-null  object        \n",
      "dtypes: datetime64[ns](1), float64(8), object(3)\n",
      "memory usage: 8.8+ MB\n"
     ]
    }
   ],
   "source": [
    "df3[\"Date-Time\"]=pd.to_datetime(df3[\"Date-Time\"])\n",
    "df3.info()"
   ]
  },
  {
   "cell_type": "code",
   "execution_count": 9,
   "id": "fd0362e8",
   "metadata": {
    "execution": {
     "iopub.execute_input": "2022-02-20T19:21:14.463178Z",
     "iopub.status.busy": "2022-02-20T19:21:14.462211Z",
     "iopub.status.idle": "2022-02-20T19:21:14.535605Z",
     "shell.execute_reply": "2022-02-20T19:21:14.535044Z",
     "shell.execute_reply.started": "2022-02-20T19:18:20.487763Z"
    },
    "papermill": {
     "duration": 0.113862,
     "end_time": "2022-02-20T19:21:14.535771",
     "exception": false,
     "start_time": "2022-02-20T19:21:14.421909",
     "status": "completed"
    },
    "tags": []
   },
   "outputs": [
    {
     "data": {
      "text/html": [
       "<div>\n",
       "<style scoped>\n",
       "    .dataframe tbody tr th:only-of-type {\n",
       "        vertical-align: middle;\n",
       "    }\n",
       "\n",
       "    .dataframe tbody tr th {\n",
       "        vertical-align: top;\n",
       "    }\n",
       "\n",
       "    .dataframe thead th {\n",
       "        text-align: right;\n",
       "    }\n",
       "</style>\n",
       "<table border=\"1\" class=\"dataframe\">\n",
       "  <thead>\n",
       "    <tr style=\"text-align: right;\">\n",
       "      <th></th>\n",
       "      <th>Date-Time</th>\n",
       "      <th>Summary</th>\n",
       "      <th>Precip Type</th>\n",
       "      <th>Temperature (C)</th>\n",
       "      <th>Apparent Temperature (C)</th>\n",
       "      <th>Humidity</th>\n",
       "      <th>Wind Speed (km/h)</th>\n",
       "      <th>Wind Bearing (degrees)</th>\n",
       "      <th>Visibility (km)</th>\n",
       "      <th>Loud Cover</th>\n",
       "      <th>Pressure (millibars)</th>\n",
       "      <th>Daily Summary</th>\n",
       "      <th>Year</th>\n",
       "      <th>Month</th>\n",
       "      <th>day</th>\n",
       "    </tr>\n",
       "  </thead>\n",
       "  <tbody>\n",
       "    <tr>\n",
       "      <th>0</th>\n",
       "      <td>2006-04-01 00:00:00</td>\n",
       "      <td>Partly Cloudy</td>\n",
       "      <td>rain</td>\n",
       "      <td>9.472222</td>\n",
       "      <td>7.388889</td>\n",
       "      <td>0.89</td>\n",
       "      <td>14.1197</td>\n",
       "      <td>251.0</td>\n",
       "      <td>15.8263</td>\n",
       "      <td>0.0</td>\n",
       "      <td>1015.13</td>\n",
       "      <td>Partly cloudy throughout the day.</td>\n",
       "      <td>2006</td>\n",
       "      <td>April</td>\n",
       "      <td>1</td>\n",
       "    </tr>\n",
       "    <tr>\n",
       "      <th>1</th>\n",
       "      <td>2006-04-01 01:00:00</td>\n",
       "      <td>Partly Cloudy</td>\n",
       "      <td>rain</td>\n",
       "      <td>9.355556</td>\n",
       "      <td>7.227778</td>\n",
       "      <td>0.86</td>\n",
       "      <td>14.2646</td>\n",
       "      <td>259.0</td>\n",
       "      <td>15.8263</td>\n",
       "      <td>0.0</td>\n",
       "      <td>1015.63</td>\n",
       "      <td>Partly cloudy throughout the day.</td>\n",
       "      <td>2006</td>\n",
       "      <td>April</td>\n",
       "      <td>1</td>\n",
       "    </tr>\n",
       "    <tr>\n",
       "      <th>2</th>\n",
       "      <td>2006-04-01 02:00:00</td>\n",
       "      <td>Mostly Cloudy</td>\n",
       "      <td>rain</td>\n",
       "      <td>9.377778</td>\n",
       "      <td>9.377778</td>\n",
       "      <td>0.89</td>\n",
       "      <td>3.9284</td>\n",
       "      <td>204.0</td>\n",
       "      <td>14.9569</td>\n",
       "      <td>0.0</td>\n",
       "      <td>1015.94</td>\n",
       "      <td>Partly cloudy throughout the day.</td>\n",
       "      <td>2006</td>\n",
       "      <td>April</td>\n",
       "      <td>1</td>\n",
       "    </tr>\n",
       "    <tr>\n",
       "      <th>3</th>\n",
       "      <td>2006-04-01 03:00:00</td>\n",
       "      <td>Partly Cloudy</td>\n",
       "      <td>rain</td>\n",
       "      <td>8.288889</td>\n",
       "      <td>5.944444</td>\n",
       "      <td>0.83</td>\n",
       "      <td>14.1036</td>\n",
       "      <td>269.0</td>\n",
       "      <td>15.8263</td>\n",
       "      <td>0.0</td>\n",
       "      <td>1016.41</td>\n",
       "      <td>Partly cloudy throughout the day.</td>\n",
       "      <td>2006</td>\n",
       "      <td>April</td>\n",
       "      <td>1</td>\n",
       "    </tr>\n",
       "    <tr>\n",
       "      <th>4</th>\n",
       "      <td>2006-04-01 04:00:00</td>\n",
       "      <td>Mostly Cloudy</td>\n",
       "      <td>rain</td>\n",
       "      <td>8.755556</td>\n",
       "      <td>6.977778</td>\n",
       "      <td>0.83</td>\n",
       "      <td>11.0446</td>\n",
       "      <td>259.0</td>\n",
       "      <td>15.8263</td>\n",
       "      <td>0.0</td>\n",
       "      <td>1016.51</td>\n",
       "      <td>Partly cloudy throughout the day.</td>\n",
       "      <td>2006</td>\n",
       "      <td>April</td>\n",
       "      <td>1</td>\n",
       "    </tr>\n",
       "  </tbody>\n",
       "</table>\n",
       "</div>"
      ],
      "text/plain": [
       "            Date-Time        Summary Precip Type  Temperature (C)  \\\n",
       "0 2006-04-01 00:00:00  Partly Cloudy        rain         9.472222   \n",
       "1 2006-04-01 01:00:00  Partly Cloudy        rain         9.355556   \n",
       "2 2006-04-01 02:00:00  Mostly Cloudy        rain         9.377778   \n",
       "3 2006-04-01 03:00:00  Partly Cloudy        rain         8.288889   \n",
       "4 2006-04-01 04:00:00  Mostly Cloudy        rain         8.755556   \n",
       "\n",
       "   Apparent Temperature (C)  Humidity  Wind Speed (km/h)  \\\n",
       "0                  7.388889      0.89            14.1197   \n",
       "1                  7.227778      0.86            14.2646   \n",
       "2                  9.377778      0.89             3.9284   \n",
       "3                  5.944444      0.83            14.1036   \n",
       "4                  6.977778      0.83            11.0446   \n",
       "\n",
       "   Wind Bearing (degrees)  Visibility (km)  Loud Cover  Pressure (millibars)  \\\n",
       "0                   251.0          15.8263         0.0               1015.13   \n",
       "1                   259.0          15.8263         0.0               1015.63   \n",
       "2                   204.0          14.9569         0.0               1015.94   \n",
       "3                   269.0          15.8263         0.0               1016.41   \n",
       "4                   259.0          15.8263         0.0               1016.51   \n",
       "\n",
       "                       Daily Summary  Year  Month  day  \n",
       "0  Partly cloudy throughout the day.  2006  April    1  \n",
       "1  Partly cloudy throughout the day.  2006  April    1  \n",
       "2  Partly cloudy throughout the day.  2006  April    1  \n",
       "3  Partly cloudy throughout the day.  2006  April    1  \n",
       "4  Partly cloudy throughout the day.  2006  April    1  "
      ]
     },
     "execution_count": 9,
     "metadata": {},
     "output_type": "execute_result"
    }
   ],
   "source": [
    "df3[\"Year\"]=pd.DatetimeIndex(df3[\"Date-Time\"]).year\n",
    "df3[\"Month\"]=df3[\"Date-Time\"].dt.month_name()\n",
    "df3[\"day\"]=df3[\"Date-Time\"].dt.day\n",
    "df3.head()\n"
   ]
  },
  {
   "cell_type": "markdown",
   "id": "15af1ba1",
   "metadata": {
    "papermill": {
     "duration": 0.038019,
     "end_time": "2022-02-20T19:21:14.612046",
     "exception": false,
     "start_time": "2022-02-20T19:21:14.574027",
     "status": "completed"
    },
    "tags": []
   },
   "source": [
    "#### Data Analysis"
   ]
  },
  {
   "cell_type": "markdown",
   "id": "fc889aef",
   "metadata": {
    "papermill": {
     "duration": 0.037027,
     "end_time": "2022-02-20T19:21:14.687110",
     "exception": false,
     "start_time": "2022-02-20T19:21:14.650083",
     "status": "completed"
    },
    "tags": []
   },
   "source": [
    "* Wind Speed"
   ]
  },
  {
   "cell_type": "code",
   "execution_count": 10,
   "id": "94fcecfe",
   "metadata": {
    "execution": {
     "iopub.execute_input": "2022-02-20T19:21:14.769575Z",
     "iopub.status.busy": "2022-02-20T19:21:14.768891Z",
     "iopub.status.idle": "2022-02-20T19:21:14.780596Z",
     "shell.execute_reply": "2022-02-20T19:21:14.779972Z",
     "shell.execute_reply.started": "2022-02-20T19:18:26.988592Z"
    },
    "papermill": {
     "duration": 0.056265,
     "end_time": "2022-02-20T19:21:14.780742",
     "exception": false,
     "start_time": "2022-02-20T19:21:14.724477",
     "status": "completed"
    },
    "tags": []
   },
   "outputs": [
    {
     "data": {
      "text/plain": [
       "count    96453.000000\n",
       "mean        10.810640\n",
       "std          6.913571\n",
       "min          0.000000\n",
       "25%          5.828200\n",
       "50%          9.965900\n",
       "75%         14.135800\n",
       "max         63.852600\n",
       "Name: Wind Speed (km/h), dtype: float64"
      ]
     },
     "execution_count": 10,
     "metadata": {},
     "output_type": "execute_result"
    }
   ],
   "source": [
    "df3[\"Wind Speed (km/h)\"].describe()"
   ]
  },
  {
   "cell_type": "code",
   "execution_count": 11,
   "id": "df18e755",
   "metadata": {
    "execution": {
     "iopub.execute_input": "2022-02-20T19:21:14.863058Z",
     "iopub.status.busy": "2022-02-20T19:21:14.862356Z",
     "iopub.status.idle": "2022-02-20T19:21:14.874010Z",
     "shell.execute_reply": "2022-02-20T19:21:14.874542Z",
     "shell.execute_reply.started": "2022-02-20T19:18:33.109425Z"
    },
    "papermill": {
     "duration": 0.055445,
     "end_time": "2022-02-20T19:21:14.874713",
     "exception": false,
     "start_time": "2022-02-20T19:21:14.819268",
     "status": "completed"
    },
    "tags": []
   },
   "outputs": [
    {
     "data": {
      "text/html": [
       "<div>\n",
       "<style scoped>\n",
       "    .dataframe tbody tr th:only-of-type {\n",
       "        vertical-align: middle;\n",
       "    }\n",
       "\n",
       "    .dataframe tbody tr th {\n",
       "        vertical-align: top;\n",
       "    }\n",
       "\n",
       "    .dataframe thead th {\n",
       "        text-align: right;\n",
       "    }\n",
       "</style>\n",
       "<table border=\"1\" class=\"dataframe\">\n",
       "  <thead>\n",
       "    <tr style=\"text-align: right;\">\n",
       "      <th></th>\n",
       "      <th>Wind Speed (km/h)</th>\n",
       "    </tr>\n",
       "    <tr>\n",
       "      <th>Year</th>\n",
       "      <th></th>\n",
       "    </tr>\n",
       "  </thead>\n",
       "  <tbody>\n",
       "    <tr>\n",
       "      <th>2006</th>\n",
       "      <td>10.189852</td>\n",
       "    </tr>\n",
       "    <tr>\n",
       "      <th>2007</th>\n",
       "      <td>10.825392</td>\n",
       "    </tr>\n",
       "    <tr>\n",
       "      <th>2008</th>\n",
       "      <td>11.303897</td>\n",
       "    </tr>\n",
       "    <tr>\n",
       "      <th>2009</th>\n",
       "      <td>11.505948</td>\n",
       "    </tr>\n",
       "    <tr>\n",
       "      <th>2010</th>\n",
       "      <td>11.015628</td>\n",
       "    </tr>\n",
       "    <tr>\n",
       "      <th>2011</th>\n",
       "      <td>9.898262</td>\n",
       "    </tr>\n",
       "    <tr>\n",
       "      <th>2012</th>\n",
       "      <td>11.264545</td>\n",
       "    </tr>\n",
       "    <tr>\n",
       "      <th>2013</th>\n",
       "      <td>10.969389</td>\n",
       "    </tr>\n",
       "    <tr>\n",
       "      <th>2014</th>\n",
       "      <td>10.502473</td>\n",
       "    </tr>\n",
       "    <tr>\n",
       "      <th>2015</th>\n",
       "      <td>10.735247</td>\n",
       "    </tr>\n",
       "    <tr>\n",
       "      <th>2016</th>\n",
       "      <td>10.703441</td>\n",
       "    </tr>\n",
       "  </tbody>\n",
       "</table>\n",
       "</div>"
      ],
      "text/plain": [
       "      Wind Speed (km/h)\n",
       "Year                   \n",
       "2006          10.189852\n",
       "2007          10.825392\n",
       "2008          11.303897\n",
       "2009          11.505948\n",
       "2010          11.015628\n",
       "2011           9.898262\n",
       "2012          11.264545\n",
       "2013          10.969389\n",
       "2014          10.502473\n",
       "2015          10.735247\n",
       "2016          10.703441"
      ]
     },
     "execution_count": 11,
     "metadata": {},
     "output_type": "execute_result"
    }
   ],
   "source": [
    "avg_wind_Speed=pd.DataFrame(df3.groupby(\"Year\")[\"Wind Speed (km/h)\"].mean())\n",
    "avg_wind_Speed\n",
    "#=[\"Year\",\"AVG. Wind Speed (km/hr\"]"
   ]
  },
  {
   "cell_type": "code",
   "execution_count": 12,
   "id": "85f72833",
   "metadata": {
    "execution": {
     "iopub.execute_input": "2022-02-20T19:21:14.959777Z",
     "iopub.status.busy": "2022-02-20T19:21:14.959123Z",
     "iopub.status.idle": "2022-02-20T19:21:15.242975Z",
     "shell.execute_reply": "2022-02-20T19:21:15.242321Z",
     "shell.execute_reply.started": "2022-02-20T19:18:37.374081Z"
    },
    "papermill": {
     "duration": 0.327053,
     "end_time": "2022-02-20T19:21:15.243113",
     "exception": false,
     "start_time": "2022-02-20T19:21:14.916060",
     "status": "completed"
    },
    "tags": []
   },
   "outputs": [
    {
     "data": {
      "text/plain": [
       "Text(0.5, 1.0, 'Average wind speed over the yeears')"
      ]
     },
     "execution_count": 12,
     "metadata": {},
     "output_type": "execute_result"
    },
    {
     "data": {
      "image/png": "[encoded data removed]",
      "text/plain": [
       "<Figure size 1000x800 with 1 Axes>"
      ]
     },
     "metadata": {},
     "output_type": "display_data"
    }
   ],
   "source": [
    "fig,ax=plt.subplots(figsize=(10,8))\n",
    "sns.lineplot(x=avg_wind_Speed.index,y=avg_wind_Speed[\"Wind Speed (km/h)\"])\n",
    "plt.title(\"Average wind speed over the yeears\")"
   ]
  },
  {
   "cell_type": "code",
   "execution_count": 13,
   "id": "30e67199",
   "metadata": {
    "execution": {
     "iopub.execute_input": "2022-02-20T19:21:15.338006Z",
     "iopub.status.busy": "2022-02-20T19:21:15.337259Z",
     "iopub.status.idle": "2022-02-20T19:21:15.351261Z",
     "shell.execute_reply": "2022-02-20T19:21:15.350733Z",
     "shell.execute_reply.started": "2022-02-20T19:18:42.699722Z"
    },
    "papermill": {
     "duration": 0.066987,
     "end_time": "2022-02-20T19:21:15.351453",
     "exception": false,
     "start_time": "2022-02-20T19:21:15.284466",
     "status": "completed"
    },
    "tags": []
   },
   "outputs": [
    {
     "data": {
      "text/html": [
       "<div>\n",
       "<style scoped>\n",
       "    .dataframe tbody tr th:only-of-type {\n",
       "        vertical-align: middle;\n",
       "    }\n",
       "\n",
       "    .dataframe tbody tr th {\n",
       "        vertical-align: top;\n",
       "    }\n",
       "\n",
       "    .dataframe thead th {\n",
       "        text-align: right;\n",
       "    }\n",
       "</style>\n",
       "<table border=\"1\" class=\"dataframe\">\n",
       "  <thead>\n",
       "    <tr style=\"text-align: right;\">\n",
       "      <th></th>\n",
       "      <th>Wind Speed (km/h)</th>\n",
       "    </tr>\n",
       "    <tr>\n",
       "      <th>Month</th>\n",
       "      <th></th>\n",
       "    </tr>\n",
       "  </thead>\n",
       "  <tbody>\n",
       "    <tr>\n",
       "      <th>January</th>\n",
       "      <td>11.512816</td>\n",
       "    </tr>\n",
       "    <tr>\n",
       "      <th>February</th>\n",
       "      <td>12.185543</td>\n",
       "    </tr>\n",
       "    <tr>\n",
       "      <th>March</th>\n",
       "      <td>13.405461</td>\n",
       "    </tr>\n",
       "    <tr>\n",
       "      <th>April</th>\n",
       "      <td>11.893094</td>\n",
       "    </tr>\n",
       "    <tr>\n",
       "      <th>May</th>\n",
       "      <td>10.959337</td>\n",
       "    </tr>\n",
       "    <tr>\n",
       "      <th>June</th>\n",
       "      <td>9.626471</td>\n",
       "    </tr>\n",
       "    <tr>\n",
       "      <th>July</th>\n",
       "      <td>9.639907</td>\n",
       "    </tr>\n",
       "    <tr>\n",
       "      <th>August</th>\n",
       "      <td>8.933431</td>\n",
       "    </tr>\n",
       "    <tr>\n",
       "      <th>September</th>\n",
       "      <td>9.621813</td>\n",
       "    </tr>\n",
       "    <tr>\n",
       "      <th>October</th>\n",
       "      <td>10.000153</td>\n",
       "    </tr>\n",
       "    <tr>\n",
       "      <th>November</th>\n",
       "      <td>10.944266</td>\n",
       "    </tr>\n",
       "    <tr>\n",
       "      <th>December</th>\n",
       "      <td>11.098682</td>\n",
       "    </tr>\n",
       "  </tbody>\n",
       "</table>\n",
       "</div>"
      ],
      "text/plain": [
       "           Wind Speed (km/h)\n",
       "Month                       \n",
       "January            11.512816\n",
       "February           12.185543\n",
       "March              13.405461\n",
       "April              11.893094\n",
       "May                10.959337\n",
       "June                9.626471\n",
       "July                9.639907\n",
       "August              8.933431\n",
       "September           9.621813\n",
       "October            10.000153\n",
       "November           10.944266\n",
       "December           11.098682"
      ]
     },
     "execution_count": 13,
     "metadata": {},
     "output_type": "execute_result"
    }
   ],
   "source": [
    "month_avg_wind_Speed=pd.DataFrame(df3.groupby(\"Month\")[\"Wind Speed (km/h)\"].mean())\n",
    "order=[\"January\",\"February\",\"March\",\"April\",\"May\",\"June\",\"July\",\"August\",\"September\",\n",
    "            \"October\",\"November\",\"December\"]\n",
    "monthly_wind_speed=month_avg_wind_Speed.reindex(index=order)\n",
    "monthly_wind_speed"
   ]
  },
  {
   "cell_type": "code",
   "execution_count": 14,
   "id": "d4803315",
   "metadata": {
    "execution": {
     "iopub.execute_input": "2022-02-20T19:21:15.437022Z",
     "iopub.status.busy": "2022-02-20T19:21:15.436023Z",
     "iopub.status.idle": "2022-02-20T19:21:15.690467Z",
     "shell.execute_reply": "2022-02-20T19:21:15.690935Z",
     "shell.execute_reply.started": "2022-02-20T19:18:46.643130Z"
    },
    "papermill": {
     "duration": 0.298736,
     "end_time": "2022-02-20T19:21:15.691104",
     "exception": false,
     "start_time": "2022-02-20T19:21:15.392368",
     "status": "completed"
    },
    "tags": []
   },
   "outputs": [
    {
     "data": {
      "text/plain": [
       "Text(0.5, 1.0, 'Monthly Average wind speed over the yeears')"
      ]
     },
     "execution_count": 14,
     "metadata": {},
     "output_type": "execute_result"
    },
    {
     "data": {
      "image/png": "[encoded data removed]",
      "text/plain": [
       "<Figure size 1000x800 with 1 Axes>"
      ]
     },
     "metadata": {},
     "output_type": "display_data"
    }
   ],
   "source": [
    "fig,ax=plt.subplots(figsize=(10,8))\n",
    "sns.lineplot(x=monthly_wind_speed.index,y=monthly_wind_speed[\"Wind Speed (km/h)\"])\n",
    "plt.title(\"Monthly Average wind speed over the yeears\")\n"
   ]
  },
  {
   "cell_type": "markdown",
   "id": "4a441164",
   "metadata": {
    "papermill": {
     "duration": 0.042381,
     "end_time": "2022-02-20T19:21:15.776700",
     "exception": false,
     "start_time": "2022-02-20T19:21:15.734319",
     "status": "completed"
    },
    "tags": []
   },
   "source": [
    "* Weather condition"
   ]
  },
  {
   "cell_type": "code",
   "execution_count": 15,
   "id": "13cb4078",
   "metadata": {
    "execution": {
     "iopub.execute_input": "2022-02-20T19:21:15.864952Z",
     "iopub.status.busy": "2022-02-20T19:21:15.864276Z",
     "iopub.status.idle": "2022-02-20T19:21:15.884085Z",
     "shell.execute_reply": "2022-02-20T19:21:15.884647Z",
     "shell.execute_reply.started": "2022-02-20T19:18:52.902139Z"
    },
    "papermill": {
     "duration": 0.065376,
     "end_time": "2022-02-20T19:21:15.884834",
     "exception": false,
     "start_time": "2022-02-20T19:21:15.819458",
     "status": "completed"
    },
    "tags": []
   },
   "outputs": [
    {
     "data": {
      "text/plain": [
       "Partly Cloudy                          31733\n",
       "Mostly Cloudy                          28094\n",
       "Overcast                               16597\n",
       "Clear                                  10890\n",
       "Foggy                                   7148\n",
       "Breezy and Overcast                      528\n",
       "Breezy and Mostly Cloudy                 516\n",
       "Breezy and Partly Cloudy                 386\n",
       "Dry and Partly Cloudy                     86\n",
       "Windy and Partly Cloudy                   67\n",
       "Light Rain                                63\n",
       "Breezy                                    54\n",
       "Windy and Overcast                        45\n",
       "Humid and Mostly Cloudy                   40\n",
       "Drizzle                                   39\n",
       "Breezy and Foggy                          35\n",
       "Windy and Mostly Cloudy                   35\n",
       "Dry                                       34\n",
       "Humid and Partly Cloudy                   17\n",
       "Dry and Mostly Cloudy                     14\n",
       "Rain                                      10\n",
       "Windy                                      8\n",
       "Humid and Overcast                         7\n",
       "Windy and Foggy                            4\n",
       "Windy and Dry                              1\n",
       "Dangerously Windy and Partly Cloudy        1\n",
       "Breezy and Dry                             1\n",
       "Name: Summary, dtype: int64"
      ]
     },
     "execution_count": 15,
     "metadata": {},
     "output_type": "execute_result"
    }
   ],
   "source": [
    "df3[\"Summary\"].value_counts()"
   ]
  },
  {
   "cell_type": "code",
   "execution_count": 16,
   "id": "eeaaf4f7",
   "metadata": {
    "execution": {
     "iopub.execute_input": "2022-02-20T19:21:15.978305Z",
     "iopub.status.busy": "2022-02-20T19:21:15.977152Z",
     "iopub.status.idle": "2022-02-20T19:21:16.027453Z",
     "shell.execute_reply": "2022-02-20T19:21:16.027990Z",
     "shell.execute_reply.started": "2022-02-20T19:19:03.689849Z"
    },
    "papermill": {
     "duration": 0.099673,
     "end_time": "2022-02-20T19:21:16.028155",
     "exception": false,
     "start_time": "2022-02-20T19:21:15.928482",
     "status": "completed"
    },
    "tags": []
   },
   "outputs": [
    {
     "data": {
      "text/html": [
       "<div>\n",
       "<style scoped>\n",
       "    .dataframe tbody tr th:only-of-type {\n",
       "        vertical-align: middle;\n",
       "    }\n",
       "\n",
       "    .dataframe tbody tr th {\n",
       "        vertical-align: top;\n",
       "    }\n",
       "\n",
       "    .dataframe thead th {\n",
       "        text-align: right;\n",
       "    }\n",
       "</style>\n",
       "<table border=\"1\" class=\"dataframe\">\n",
       "  <thead>\n",
       "    <tr style=\"text-align: right;\">\n",
       "      <th></th>\n",
       "      <th>most frequent weather</th>\n",
       "    </tr>\n",
       "    <tr>\n",
       "      <th>Year</th>\n",
       "      <th></th>\n",
       "    </tr>\n",
       "  </thead>\n",
       "  <tbody>\n",
       "    <tr>\n",
       "      <th>2006</th>\n",
       "      <td>Partly Cloudy</td>\n",
       "    </tr>\n",
       "    <tr>\n",
       "      <th>2007</th>\n",
       "      <td>Partly Cloudy</td>\n",
       "    </tr>\n",
       "    <tr>\n",
       "      <th>2008</th>\n",
       "      <td>Partly Cloudy</td>\n",
       "    </tr>\n",
       "    <tr>\n",
       "      <th>2009</th>\n",
       "      <td>Partly Cloudy</td>\n",
       "    </tr>\n",
       "    <tr>\n",
       "      <th>2010</th>\n",
       "      <td>Partly Cloudy</td>\n",
       "    </tr>\n",
       "    <tr>\n",
       "      <th>2011</th>\n",
       "      <td>Partly Cloudy</td>\n",
       "    </tr>\n",
       "    <tr>\n",
       "      <th>2012</th>\n",
       "      <td>Partly Cloudy</td>\n",
       "    </tr>\n",
       "    <tr>\n",
       "      <th>2013</th>\n",
       "      <td>Partly Cloudy</td>\n",
       "    </tr>\n",
       "    <tr>\n",
       "      <th>2014</th>\n",
       "      <td>Mostly Cloudy</td>\n",
       "    </tr>\n",
       "    <tr>\n",
       "      <th>2015</th>\n",
       "      <td>Partly Cloudy</td>\n",
       "    </tr>\n",
       "    <tr>\n",
       "      <th>2016</th>\n",
       "      <td>Mostly Cloudy</td>\n",
       "    </tr>\n",
       "  </tbody>\n",
       "</table>\n",
       "</div>"
      ],
      "text/plain": [
       "     most frequent weather\n",
       "Year                      \n",
       "2006         Partly Cloudy\n",
       "2007         Partly Cloudy\n",
       "2008         Partly Cloudy\n",
       "2009         Partly Cloudy\n",
       "2010         Partly Cloudy\n",
       "2011         Partly Cloudy\n",
       "2012         Partly Cloudy\n",
       "2013         Partly Cloudy\n",
       "2014         Mostly Cloudy\n",
       "2015         Partly Cloudy\n",
       "2016         Mostly Cloudy"
      ]
     },
     "execution_count": 16,
     "metadata": {},
     "output_type": "execute_result"
    }
   ],
   "source": [
    "weather_cond=pd.DataFrame(df3.groupby(\"Year\")[\"Summary\"].describe(include=\"O\").top)\n",
    "\n",
    "weather_cond.rename(columns={\"top\":\"most frequent weather\"})"
   ]
  },
  {
   "cell_type": "code",
   "execution_count": 17,
   "id": "e2ddaf7d",
   "metadata": {
    "execution": {
     "iopub.execute_input": "2022-02-20T19:21:16.120253Z",
     "iopub.status.busy": "2022-02-20T19:21:16.119247Z",
     "iopub.status.idle": "2022-02-20T19:21:16.180941Z",
     "shell.execute_reply": "2022-02-20T19:21:16.181441Z",
     "shell.execute_reply.started": "2022-02-20T19:19:09.896077Z"
    },
    "papermill": {
     "duration": 0.108968,
     "end_time": "2022-02-20T19:21:16.181608",
     "exception": false,
     "start_time": "2022-02-20T19:21:16.072640",
     "status": "completed"
    },
    "tags": []
   },
   "outputs": [
    {
     "data": {
      "text/html": [
       "<div>\n",
       "<style scoped>\n",
       "    .dataframe tbody tr th:only-of-type {\n",
       "        vertical-align: middle;\n",
       "    }\n",
       "\n",
       "    .dataframe tbody tr th {\n",
       "        vertical-align: top;\n",
       "    }\n",
       "\n",
       "    .dataframe thead th {\n",
       "        text-align: right;\n",
       "    }\n",
       "</style>\n",
       "<table border=\"1\" class=\"dataframe\">\n",
       "  <thead>\n",
       "    <tr style=\"text-align: right;\">\n",
       "      <th></th>\n",
       "      <th>top</th>\n",
       "    </tr>\n",
       "    <tr>\n",
       "      <th>Month</th>\n",
       "      <th></th>\n",
       "    </tr>\n",
       "  </thead>\n",
       "  <tbody>\n",
       "    <tr>\n",
       "      <th>January</th>\n",
       "      <td>Overcast</td>\n",
       "    </tr>\n",
       "    <tr>\n",
       "      <th>February</th>\n",
       "      <td>Overcast</td>\n",
       "    </tr>\n",
       "    <tr>\n",
       "      <th>March</th>\n",
       "      <td>Mostly Cloudy</td>\n",
       "    </tr>\n",
       "    <tr>\n",
       "      <th>April</th>\n",
       "      <td>Partly Cloudy</td>\n",
       "    </tr>\n",
       "    <tr>\n",
       "      <th>May</th>\n",
       "      <td>Partly Cloudy</td>\n",
       "    </tr>\n",
       "    <tr>\n",
       "      <th>June</th>\n",
       "      <td>Partly Cloudy</td>\n",
       "    </tr>\n",
       "    <tr>\n",
       "      <th>July</th>\n",
       "      <td>Partly Cloudy</td>\n",
       "    </tr>\n",
       "    <tr>\n",
       "      <th>August</th>\n",
       "      <td>Partly Cloudy</td>\n",
       "    </tr>\n",
       "    <tr>\n",
       "      <th>September</th>\n",
       "      <td>Partly Cloudy</td>\n",
       "    </tr>\n",
       "    <tr>\n",
       "      <th>October</th>\n",
       "      <td>Mostly Cloudy</td>\n",
       "    </tr>\n",
       "    <tr>\n",
       "      <th>November</th>\n",
       "      <td>Mostly Cloudy</td>\n",
       "    </tr>\n",
       "    <tr>\n",
       "      <th>December</th>\n",
       "      <td>Mostly Cloudy</td>\n",
       "    </tr>\n",
       "  </tbody>\n",
       "</table>\n",
       "</div>"
      ],
      "text/plain": [
       "                     top\n",
       "Month                   \n",
       "January         Overcast\n",
       "February        Overcast\n",
       "March      Mostly Cloudy\n",
       "April      Partly Cloudy\n",
       "May        Partly Cloudy\n",
       "June       Partly Cloudy\n",
       "July       Partly Cloudy\n",
       "August     Partly Cloudy\n",
       "September  Partly Cloudy\n",
       "October    Mostly Cloudy\n",
       "November   Mostly Cloudy\n",
       "December   Mostly Cloudy"
      ]
     },
     "execution_count": 17,
     "metadata": {},
     "output_type": "execute_result"
    }
   ],
   "source": [
    "m_weather_cond=pd.DataFrame(df3.groupby(\"Month\")[\"Summary\"].describe(include=\"O\").top)\n",
    "order=[\"January\",\"February\",\"March\",\"April\",\"May\",\"June\",\"July\",\"August\",\"September\",\n",
    "            \"October\",\"November\",\"December\"]\n",
    "m_weather_cond.rename(columns={\"top\":\"most frequent weather\"})\n",
    "monthly=m_weather_cond.reindex(index=order)\n",
    "monthly\n"
   ]
  },
  {
   "cell_type": "markdown",
   "id": "c7929a71",
   "metadata": {
    "papermill": {
     "duration": 0.044742,
     "end_time": "2022-02-20T19:21:16.270998",
     "exception": false,
     "start_time": "2022-02-20T19:21:16.226256",
     "status": "completed"
    },
    "tags": []
   },
   "source": [
    "* Visibility"
   ]
  },
  {
   "cell_type": "code",
   "execution_count": 18,
   "id": "ea4f3580",
   "metadata": {
    "execution": {
     "iopub.execute_input": "2022-02-20T19:21:16.363047Z",
     "iopub.status.busy": "2022-02-20T19:21:16.362023Z",
     "iopub.status.idle": "2022-02-20T19:21:16.384391Z",
     "shell.execute_reply": "2022-02-20T19:21:16.383749Z",
     "shell.execute_reply.started": "2022-02-20T19:19:15.603302Z"
    },
    "papermill": {
     "duration": 0.069607,
     "end_time": "2022-02-20T19:21:16.384526",
     "exception": false,
     "start_time": "2022-02-20T19:21:16.314919",
     "status": "completed"
    },
    "tags": []
   },
   "outputs": [
    {
     "data": {
      "text/html": [
       "<div>\n",
       "<style scoped>\n",
       "    .dataframe tbody tr th:only-of-type {\n",
       "        vertical-align: middle;\n",
       "    }\n",
       "\n",
       "    .dataframe tbody tr th {\n",
       "        vertical-align: top;\n",
       "    }\n",
       "\n",
       "    .dataframe thead th {\n",
       "        text-align: right;\n",
       "    }\n",
       "</style>\n",
       "<table border=\"1\" class=\"dataframe\">\n",
       "  <thead>\n",
       "    <tr style=\"text-align: right;\">\n",
       "      <th></th>\n",
       "      <th>Visibility (km)</th>\n",
       "    </tr>\n",
       "    <tr>\n",
       "      <th>Month</th>\n",
       "      <th></th>\n",
       "    </tr>\n",
       "  </thead>\n",
       "  <tbody>\n",
       "    <tr>\n",
       "      <th>January</th>\n",
       "      <td>7.830584</td>\n",
       "    </tr>\n",
       "    <tr>\n",
       "      <th>February</th>\n",
       "      <td>8.731368</td>\n",
       "    </tr>\n",
       "    <tr>\n",
       "      <th>March</th>\n",
       "      <td>10.910450</td>\n",
       "    </tr>\n",
       "    <tr>\n",
       "      <th>April</th>\n",
       "      <td>11.784224</td>\n",
       "    </tr>\n",
       "    <tr>\n",
       "      <th>May</th>\n",
       "      <td>11.892754</td>\n",
       "    </tr>\n",
       "    <tr>\n",
       "      <th>June</th>\n",
       "      <td>11.990266</td>\n",
       "    </tr>\n",
       "    <tr>\n",
       "      <th>July</th>\n",
       "      <td>12.187820</td>\n",
       "    </tr>\n",
       "    <tr>\n",
       "      <th>August</th>\n",
       "      <td>12.455549</td>\n",
       "    </tr>\n",
       "    <tr>\n",
       "      <th>September</th>\n",
       "      <td>11.602874</td>\n",
       "    </tr>\n",
       "    <tr>\n",
       "      <th>October</th>\n",
       "      <td>9.741691</td>\n",
       "    </tr>\n",
       "    <tr>\n",
       "      <th>November</th>\n",
       "      <td>8.191229</td>\n",
       "    </tr>\n",
       "    <tr>\n",
       "      <th>December</th>\n",
       "      <td>6.773288</td>\n",
       "    </tr>\n",
       "  </tbody>\n",
       "</table>\n",
       "</div>"
      ],
      "text/plain": [
       "           Visibility (km)\n",
       "Month                     \n",
       "January           7.830584\n",
       "February          8.731368\n",
       "March            10.910450\n",
       "April            11.784224\n",
       "May              11.892754\n",
       "June             11.990266\n",
       "July             12.187820\n",
       "August           12.455549\n",
       "September        11.602874\n",
       "October           9.741691\n",
       "November          8.191229\n",
       "December          6.773288"
      ]
     },
     "execution_count": 18,
     "metadata": {},
     "output_type": "execute_result"
    }
   ],
   "source": [
    "month_avg_visibility=pd.DataFrame(df3.groupby(\"Month\")[\"Visibility (km)\"].mean())\n",
    "order=[\"January\",\"February\",\"March\",\"April\",\"May\",\"June\",\"July\",\"August\",\"September\",\n",
    "            \"October\",\"November\",\"December\"]\n",
    "monthly_visibility=month_avg_visibility.reindex(index=order)\n",
    "monthly_visibility"
   ]
  },
  {
   "cell_type": "code",
   "execution_count": 19,
   "id": "56e5a03f",
   "metadata": {
    "execution": {
     "iopub.execute_input": "2022-02-20T19:21:16.479760Z",
     "iopub.status.busy": "2022-02-20T19:21:16.478467Z",
     "iopub.status.idle": "2022-02-20T19:21:16.692584Z",
     "shell.execute_reply": "2022-02-20T19:21:16.693067Z",
     "shell.execute_reply.started": "2022-02-20T19:19:19.935594Z"
    },
    "papermill": {
     "duration": 0.263096,
     "end_time": "2022-02-20T19:21:16.693241",
     "exception": false,
     "start_time": "2022-02-20T19:21:16.430145",
     "status": "completed"
    },
    "tags": []
   },
   "outputs": [
    {
     "data": {
      "text/plain": [
       "Text(0.5, 1.0, 'Monthly visibility over the yeears')"
      ]
     },
     "execution_count": 19,
     "metadata": {},
     "output_type": "execute_result"
    },
    {
     "data": {
      "image/png": "[encoded data removed]",
      "text/plain": [
       "<Figure size 1000x800 with 1 Axes>"
      ]
     },
     "metadata": {},
     "output_type": "display_data"
    }
   ],
   "source": [
    "fig,ax=plt.subplots(figsize=(10,8))\n",
    "sns.lineplot(x=monthly_visibility.index,y=monthly_visibility[\"Visibility (km)\"])\n",
    "plt.title(\"Monthly visibility over the yeears\")"
   ]
  },
  {
   "cell_type": "markdown",
   "id": "cb05e63b",
   "metadata": {
    "papermill": {
     "duration": 0.046218,
     "end_time": "2022-02-20T19:21:16.786190",
     "exception": false,
     "start_time": "2022-02-20T19:21:16.739972",
     "status": "completed"
    },
    "tags": []
   },
   "source": [
    "* Precipitation: rainy and snowy months"
   ]
  },
  {
   "cell_type": "code",
   "execution_count": 20,
   "id": "1dc205ba",
   "metadata": {
    "execution": {
     "iopub.execute_input": "2022-02-20T19:21:16.882239Z",
     "iopub.status.busy": "2022-02-20T19:21:16.881588Z",
     "iopub.status.idle": "2022-02-20T19:21:16.946692Z",
     "shell.execute_reply": "2022-02-20T19:21:16.947213Z",
     "shell.execute_reply.started": "2022-02-20T19:19:24.750641Z"
    },
    "papermill": {
     "duration": 0.114826,
     "end_time": "2022-02-20T19:21:16.947394",
     "exception": false,
     "start_time": "2022-02-20T19:21:16.832568",
     "status": "completed"
    },
    "tags": []
   },
   "outputs": [
    {
     "data": {
      "text/html": [
       "<div>\n",
       "<style scoped>\n",
       "    .dataframe tbody tr th:only-of-type {\n",
       "        vertical-align: middle;\n",
       "    }\n",
       "\n",
       "    .dataframe tbody tr th {\n",
       "        vertical-align: top;\n",
       "    }\n",
       "\n",
       "    .dataframe thead th {\n",
       "        text-align: right;\n",
       "    }\n",
       "</style>\n",
       "<table border=\"1\" class=\"dataframe\">\n",
       "  <thead>\n",
       "    <tr style=\"text-align: right;\">\n",
       "      <th></th>\n",
       "      <th>Precip Type</th>\n",
       "    </tr>\n",
       "    <tr>\n",
       "      <th>Month</th>\n",
       "      <th></th>\n",
       "    </tr>\n",
       "  </thead>\n",
       "  <tbody>\n",
       "    <tr>\n",
       "      <th>January</th>\n",
       "      <td>rain</td>\n",
       "    </tr>\n",
       "    <tr>\n",
       "      <th>February</th>\n",
       "      <td>rain</td>\n",
       "    </tr>\n",
       "    <tr>\n",
       "      <th>March</th>\n",
       "      <td>rain</td>\n",
       "    </tr>\n",
       "    <tr>\n",
       "      <th>April</th>\n",
       "      <td>rain</td>\n",
       "    </tr>\n",
       "    <tr>\n",
       "      <th>May</th>\n",
       "      <td>rain</td>\n",
       "    </tr>\n",
       "    <tr>\n",
       "      <th>June</th>\n",
       "      <td>rain</td>\n",
       "    </tr>\n",
       "    <tr>\n",
       "      <th>July</th>\n",
       "      <td>rain</td>\n",
       "    </tr>\n",
       "    <tr>\n",
       "      <th>August</th>\n",
       "      <td>rain</td>\n",
       "    </tr>\n",
       "    <tr>\n",
       "      <th>September</th>\n",
       "      <td>rain</td>\n",
       "    </tr>\n",
       "    <tr>\n",
       "      <th>October</th>\n",
       "      <td>rain</td>\n",
       "    </tr>\n",
       "    <tr>\n",
       "      <th>November</th>\n",
       "      <td>rain</td>\n",
       "    </tr>\n",
       "    <tr>\n",
       "      <th>December</th>\n",
       "      <td>rain</td>\n",
       "    </tr>\n",
       "  </tbody>\n",
       "</table>\n",
       "</div>"
      ],
      "text/plain": [
       "          Precip Type\n",
       "Month                \n",
       "January          rain\n",
       "February         rain\n",
       "March            rain\n",
       "April            rain\n",
       "May              rain\n",
       "June             rain\n",
       "July             rain\n",
       "August           rain\n",
       "September        rain\n",
       "October          rain\n",
       "November         rain\n",
       "December         rain"
      ]
     },
     "execution_count": 20,
     "metadata": {},
     "output_type": "execute_result"
    }
   ],
   "source": [
    "percip=pd.DataFrame(df3.groupby(\"Month\")[\"Precip Type\"].describe(include=\"O\").top)\n",
    "order=[\"January\",\"February\",\"March\",\"April\",\"May\",\"June\",\"July\",\"August\",\"September\",\n",
    "            \"October\",\"November\",\"December\"]\n",
    "m_p=percip.rename(columns={\"top\":\"Precip Type\"})\n",
    "monthly_percip=m_p.reindex(index=order)\n",
    "monthly_percip"
   ]
  },
  {
   "cell_type": "markdown",
   "id": "547228a9",
   "metadata": {
    "papermill": {
     "duration": 0.048158,
     "end_time": "2022-02-20T19:21:17.042861",
     "exception": false,
     "start_time": "2022-02-20T19:21:16.994703",
     "status": "completed"
    },
    "tags": []
   },
   "source": [
    "* Temperature"
   ]
  },
  {
   "cell_type": "code",
   "execution_count": 21,
   "id": "8efa0605",
   "metadata": {
    "execution": {
     "iopub.execute_input": "2022-02-20T19:21:17.140805Z",
     "iopub.status.busy": "2022-02-20T19:21:17.140143Z",
     "iopub.status.idle": "2022-02-20T19:21:17.342686Z",
     "shell.execute_reply": "2022-02-20T19:21:17.342137Z",
     "shell.execute_reply.started": "2022-02-20T19:19:32.328859Z"
    },
    "papermill": {
     "duration": 0.252581,
     "end_time": "2022-02-20T19:21:17.342840",
     "exception": false,
     "start_time": "2022-02-20T19:21:17.090259",
     "status": "completed"
    },
    "tags": []
   },
   "outputs": [
    {
     "data": {
      "text/plain": [
       "Text(0, 0.5, 'freq')"
      ]
     },
     "execution_count": 21,
     "metadata": {},
     "output_type": "execute_result"
    },
    {
     "data": {
      "image/png": "[encoded data removed]",
      "text/plain": [
       "<Figure size 1000x800 with 1 Axes>"
      ]
     },
     "metadata": {},
     "output_type": "display_data"
    }
   ],
   "source": [
    "fig,ax=plt.subplots(figsize=(10,8))\n",
    "plt.hist(df3[\"Temperature (C)\"],bins=10,rwidth=0.9)\n",
    "plt.xlabel(\"Temperature (C)\")\n",
    "plt.ylabel(\"freq\")"
   ]
  },
  {
   "cell_type": "code",
   "execution_count": 22,
   "id": "e4950ca6",
   "metadata": {
    "execution": {
     "iopub.execute_input": "2022-02-20T19:21:17.445546Z",
     "iopub.status.busy": "2022-02-20T19:21:17.444572Z",
     "iopub.status.idle": "2022-02-20T19:21:17.456277Z",
     "shell.execute_reply": "2022-02-20T19:21:17.456831Z",
     "shell.execute_reply.started": "2022-02-20T19:19:44.300699Z"
    },
    "papermill": {
     "duration": 0.065188,
     "end_time": "2022-02-20T19:21:17.456994",
     "exception": false,
     "start_time": "2022-02-20T19:21:17.391806",
     "status": "completed"
    },
    "tags": []
   },
   "outputs": [
    {
     "data": {
      "text/html": [
       "<div>\n",
       "<style scoped>\n",
       "    .dataframe tbody tr th:only-of-type {\n",
       "        vertical-align: middle;\n",
       "    }\n",
       "\n",
       "    .dataframe tbody tr th {\n",
       "        vertical-align: top;\n",
       "    }\n",
       "\n",
       "    .dataframe thead th {\n",
       "        text-align: right;\n",
       "    }\n",
       "</style>\n",
       "<table border=\"1\" class=\"dataframe\">\n",
       "  <thead>\n",
       "    <tr style=\"text-align: right;\">\n",
       "      <th></th>\n",
       "      <th>Temperature (C)</th>\n",
       "    </tr>\n",
       "    <tr>\n",
       "      <th>Year</th>\n",
       "      <th></th>\n",
       "    </tr>\n",
       "  </thead>\n",
       "  <tbody>\n",
       "    <tr>\n",
       "      <th>2006</th>\n",
       "      <td>11.215365</td>\n",
       "    </tr>\n",
       "    <tr>\n",
       "      <th>2007</th>\n",
       "      <td>12.135239</td>\n",
       "    </tr>\n",
       "    <tr>\n",
       "      <th>2008</th>\n",
       "      <td>12.161876</td>\n",
       "    </tr>\n",
       "    <tr>\n",
       "      <th>2009</th>\n",
       "      <td>12.267910</td>\n",
       "    </tr>\n",
       "    <tr>\n",
       "      <th>2010</th>\n",
       "      <td>11.202061</td>\n",
       "    </tr>\n",
       "    <tr>\n",
       "      <th>2011</th>\n",
       "      <td>11.524453</td>\n",
       "    </tr>\n",
       "    <tr>\n",
       "      <th>2012</th>\n",
       "      <td>11.986726</td>\n",
       "    </tr>\n",
       "    <tr>\n",
       "      <th>2013</th>\n",
       "      <td>11.940719</td>\n",
       "    </tr>\n",
       "    <tr>\n",
       "      <th>2014</th>\n",
       "      <td>12.529737</td>\n",
       "    </tr>\n",
       "    <tr>\n",
       "      <th>2015</th>\n",
       "      <td>12.311370</td>\n",
       "    </tr>\n",
       "    <tr>\n",
       "      <th>2016</th>\n",
       "      <td>11.985292</td>\n",
       "    </tr>\n",
       "  </tbody>\n",
       "</table>\n",
       "</div>"
      ],
      "text/plain": [
       "      Temperature (C)\n",
       "Year                 \n",
       "2006        11.215365\n",
       "2007        12.135239\n",
       "2008        12.161876\n",
       "2009        12.267910\n",
       "2010        11.202061\n",
       "2011        11.524453\n",
       "2012        11.986726\n",
       "2013        11.940719\n",
       "2014        12.529737\n",
       "2015        12.311370\n",
       "2016        11.985292"
      ]
     },
     "execution_count": 22,
     "metadata": {},
     "output_type": "execute_result"
    }
   ],
   "source": [
    "year_avg_temp=pd.DataFrame(df3.groupby(\"Year\")[\"Temperature (C)\"].mean())\n",
    "year_avg_temp"
   ]
  },
  {
   "cell_type": "code",
   "execution_count": 23,
   "id": "afb79bc2",
   "metadata": {
    "execution": {
     "iopub.execute_input": "2022-02-20T19:21:17.560765Z",
     "iopub.status.busy": "2022-02-20T19:21:17.560107Z",
     "iopub.status.idle": "2022-02-20T19:21:17.751307Z",
     "shell.execute_reply": "2022-02-20T19:21:17.750765Z",
     "shell.execute_reply.started": "2022-02-20T19:19:49.812097Z"
    },
    "papermill": {
     "duration": 0.245507,
     "end_time": "2022-02-20T19:21:17.751479",
     "exception": false,
     "start_time": "2022-02-20T19:21:17.505972",
     "status": "completed"
    },
    "tags": []
   },
   "outputs": [
    {
     "data": {
      "text/plain": [
       "Text(0.5, 1.0, 'Annual avg. temperature')"
      ]
     },
     "execution_count": 23,
     "metadata": {},
     "output_type": "execute_result"
    },
    {
     "data": {
      "image/png": "[encoded data removed]",
      "text/plain": [
       "<Figure size 1000x800 with 1 Axes>"
      ]
     },
     "metadata": {},
     "output_type": "display_data"
    }
   ],
   "source": [
    "fig,ax=plt.subplots(figsize=(10,8))\n",
    "sns.lineplot(x=year_avg_temp.index,y=year_avg_temp[\"Temperature (C)\"])\n",
    "plt.title(\"Annual avg. temperature\")"
   ]
  },
  {
   "cell_type": "code",
   "execution_count": 24,
   "id": "3cc9ec6e",
   "metadata": {
    "execution": {
     "iopub.execute_input": "2022-02-20T19:21:17.859394Z",
     "iopub.status.busy": "2022-02-20T19:21:17.858717Z",
     "iopub.status.idle": "2022-02-20T19:21:17.880361Z",
     "shell.execute_reply": "2022-02-20T19:21:17.880898Z",
     "shell.execute_reply.started": "2022-02-20T19:19:57.356958Z"
    },
    "papermill": {
     "duration": 0.076391,
     "end_time": "2022-02-20T19:21:17.881065",
     "exception": false,
     "start_time": "2022-02-20T19:21:17.804674",
     "status": "completed"
    },
    "tags": []
   },
   "outputs": [
    {
     "data": {
      "text/html": [
       "<div>\n",
       "<style scoped>\n",
       "    .dataframe tbody tr th:only-of-type {\n",
       "        vertical-align: middle;\n",
       "    }\n",
       "\n",
       "    .dataframe tbody tr th {\n",
       "        vertical-align: top;\n",
       "    }\n",
       "\n",
       "    .dataframe thead th {\n",
       "        text-align: right;\n",
       "    }\n",
       "</style>\n",
       "<table border=\"1\" class=\"dataframe\">\n",
       "  <thead>\n",
       "    <tr style=\"text-align: right;\">\n",
       "      <th></th>\n",
       "      <th>Temperature (C)</th>\n",
       "    </tr>\n",
       "    <tr>\n",
       "      <th>Month</th>\n",
       "      <th></th>\n",
       "    </tr>\n",
       "  </thead>\n",
       "  <tbody>\n",
       "    <tr>\n",
       "      <th>January</th>\n",
       "      <td>0.813890</td>\n",
       "    </tr>\n",
       "    <tr>\n",
       "      <th>February</th>\n",
       "      <td>2.159699</td>\n",
       "    </tr>\n",
       "    <tr>\n",
       "      <th>March</th>\n",
       "      <td>6.906599</td>\n",
       "    </tr>\n",
       "    <tr>\n",
       "      <th>April</th>\n",
       "      <td>12.756417</td>\n",
       "    </tr>\n",
       "    <tr>\n",
       "      <th>May</th>\n",
       "      <td>16.873692</td>\n",
       "    </tr>\n",
       "    <tr>\n",
       "      <th>June</th>\n",
       "      <td>20.715617</td>\n",
       "    </tr>\n",
       "    <tr>\n",
       "      <th>July</th>\n",
       "      <td>22.963943</td>\n",
       "    </tr>\n",
       "    <tr>\n",
       "      <th>August</th>\n",
       "      <td>22.345031</td>\n",
       "    </tr>\n",
       "    <tr>\n",
       "      <th>September</th>\n",
       "      <td>17.516790</td>\n",
       "    </tr>\n",
       "    <tr>\n",
       "      <th>October</th>\n",
       "      <td>11.342247</td>\n",
       "    </tr>\n",
       "    <tr>\n",
       "      <th>November</th>\n",
       "      <td>6.589907</td>\n",
       "    </tr>\n",
       "    <tr>\n",
       "      <th>December</th>\n",
       "      <td>1.633742</td>\n",
       "    </tr>\n",
       "  </tbody>\n",
       "</table>\n",
       "</div>"
      ],
      "text/plain": [
       "           Temperature (C)\n",
       "Month                     \n",
       "January           0.813890\n",
       "February          2.159699\n",
       "March             6.906599\n",
       "April            12.756417\n",
       "May              16.873692\n",
       "June             20.715617\n",
       "July             22.963943\n",
       "August           22.345031\n",
       "September        17.516790\n",
       "October          11.342247\n",
       "November          6.589907\n",
       "December          1.633742"
      ]
     },
     "execution_count": 24,
     "metadata": {},
     "output_type": "execute_result"
    }
   ],
   "source": [
    "month_temp=pd.DataFrame(df3.groupby(\"Month\")[\"Temperature (C)\"].mean())\n",
    "order=[\"January\",\"February\",\"March\",\"April\",\"May\",\"June\",\"July\",\"August\",\"September\",\n",
    "            \"October\",\"November\",\"December\"]\n",
    "\n",
    "monthly_avg_temp=month_temp.reindex(index=order)\n",
    "monthly_avg_temp"
   ]
  },
  {
   "cell_type": "code",
   "execution_count": 25,
   "id": "1512ac77",
   "metadata": {
    "execution": {
     "iopub.execute_input": "2022-02-20T19:21:18.001943Z",
     "iopub.status.busy": "2022-02-20T19:21:17.988725Z",
     "iopub.status.idle": "2022-02-20T19:21:18.192064Z",
     "shell.execute_reply": "2022-02-20T19:21:18.191547Z",
     "shell.execute_reply.started": "2022-02-20T19:20:06.078500Z"
    },
    "papermill": {
     "duration": 0.259515,
     "end_time": "2022-02-20T19:21:18.192205",
     "exception": false,
     "start_time": "2022-02-20T19:21:17.932690",
     "status": "completed"
    },
    "tags": []
   },
   "outputs": [
    {
     "data": {
      "text/plain": [
       "Text(0.5, 1.0, 'monthly avg. temperature')"
      ]
     },
     "execution_count": 25,
     "metadata": {},
     "output_type": "execute_result"
    },
    {
     "data": {
      "image/png": "[encoded data removed]",
      "text/plain": [
       "<Figure size 1000x800 with 1 Axes>"
      ]
     },
     "metadata": {},
     "output_type": "display_data"
    }
   ],
   "source": [
    "fig,ax=plt.subplots(figsize=(10,8))\n",
    "sns.lineplot(x=monthly_avg_temp.index,y=monthly_avg_temp[\"Temperature (C)\"])\n",
    "plt.title(\"monthly avg. temperature\")"
   ]
  },
  {
   "cell_type": "markdown",
   "id": "911f4c71",
   "metadata": {
    "papermill": {
     "duration": 0.054376,
     "end_time": "2022-02-20T19:21:18.301682",
     "exception": false,
     "start_time": "2022-02-20T19:21:18.247306",
     "status": "completed"
    },
    "tags": []
   },
   "source": [
    "* Correlation"
   ]
  },
  {
   "cell_type": "code",
   "execution_count": 26,
   "id": "3c18d9c1",
   "metadata": {
    "execution": {
     "iopub.execute_input": "2022-02-20T19:21:18.412184Z",
     "iopub.status.busy": "2022-02-20T19:21:18.411504Z",
     "iopub.status.idle": "2022-02-20T19:21:18.466081Z",
     "shell.execute_reply": "2022-02-20T19:21:18.466582Z",
     "shell.execute_reply.started": "2022-02-20T19:20:10.838911Z"
    },
    "papermill": {
     "duration": 0.111783,
     "end_time": "2022-02-20T19:21:18.466748",
     "exception": false,
     "start_time": "2022-02-20T19:21:18.354965",
     "status": "completed"
    },
    "tags": []
   },
   "outputs": [
    {
     "data": {
      "text/html": [
       "<div>\n",
       "<style scoped>\n",
       "    .dataframe tbody tr th:only-of-type {\n",
       "        vertical-align: middle;\n",
       "    }\n",
       "\n",
       "    .dataframe tbody tr th {\n",
       "        vertical-align: top;\n",
       "    }\n",
       "\n",
       "    .dataframe thead th {\n",
       "        text-align: right;\n",
       "    }\n",
       "</style>\n",
       "<table border=\"1\" class=\"dataframe\">\n",
       "  <thead>\n",
       "    <tr style=\"text-align: right;\">\n",
       "      <th></th>\n",
       "      <th>Temperature (C)</th>\n",
       "      <th>Apparent Temperature (C)</th>\n",
       "      <th>Humidity</th>\n",
       "      <th>Wind Speed (km/h)</th>\n",
       "      <th>Wind Bearing (degrees)</th>\n",
       "      <th>Visibility (km)</th>\n",
       "      <th>Pressure (millibars)</th>\n",
       "    </tr>\n",
       "  </thead>\n",
       "  <tbody>\n",
       "    <tr>\n",
       "      <th>Temperature (C)</th>\n",
       "      <td>1.000000</td>\n",
       "      <td>0.992629</td>\n",
       "      <td>-0.632255</td>\n",
       "      <td>0.008957</td>\n",
       "      <td>0.029988</td>\n",
       "      <td>0.392847</td>\n",
       "      <td>-0.005447</td>\n",
       "    </tr>\n",
       "    <tr>\n",
       "      <th>Apparent Temperature (C)</th>\n",
       "      <td>0.992629</td>\n",
       "      <td>1.000000</td>\n",
       "      <td>-0.602571</td>\n",
       "      <td>-0.056650</td>\n",
       "      <td>0.029031</td>\n",
       "      <td>0.381718</td>\n",
       "      <td>-0.000219</td>\n",
       "    </tr>\n",
       "    <tr>\n",
       "      <th>Humidity</th>\n",
       "      <td>-0.632255</td>\n",
       "      <td>-0.602571</td>\n",
       "      <td>1.000000</td>\n",
       "      <td>-0.224951</td>\n",
       "      <td>0.000735</td>\n",
       "      <td>-0.369173</td>\n",
       "      <td>0.005454</td>\n",
       "    </tr>\n",
       "    <tr>\n",
       "      <th>Wind Speed (km/h)</th>\n",
       "      <td>0.008957</td>\n",
       "      <td>-0.056650</td>\n",
       "      <td>-0.224951</td>\n",
       "      <td>1.000000</td>\n",
       "      <td>0.103822</td>\n",
       "      <td>0.100749</td>\n",
       "      <td>-0.049263</td>\n",
       "    </tr>\n",
       "    <tr>\n",
       "      <th>Wind Bearing (degrees)</th>\n",
       "      <td>0.029988</td>\n",
       "      <td>0.029031</td>\n",
       "      <td>0.000735</td>\n",
       "      <td>0.103822</td>\n",
       "      <td>1.000000</td>\n",
       "      <td>0.047594</td>\n",
       "      <td>-0.011651</td>\n",
       "    </tr>\n",
       "    <tr>\n",
       "      <th>Visibility (km)</th>\n",
       "      <td>0.392847</td>\n",
       "      <td>0.381718</td>\n",
       "      <td>-0.369173</td>\n",
       "      <td>0.100749</td>\n",
       "      <td>0.047594</td>\n",
       "      <td>1.000000</td>\n",
       "      <td>0.059818</td>\n",
       "    </tr>\n",
       "    <tr>\n",
       "      <th>Pressure (millibars)</th>\n",
       "      <td>-0.005447</td>\n",
       "      <td>-0.000219</td>\n",
       "      <td>0.005454</td>\n",
       "      <td>-0.049263</td>\n",
       "      <td>-0.011651</td>\n",
       "      <td>0.059818</td>\n",
       "      <td>1.000000</td>\n",
       "    </tr>\n",
       "  </tbody>\n",
       "</table>\n",
       "</div>"
      ],
      "text/plain": [
       "                          Temperature (C)  Apparent Temperature (C)  Humidity  \\\n",
       "Temperature (C)                  1.000000                  0.992629 -0.632255   \n",
       "Apparent Temperature (C)         0.992629                  1.000000 -0.602571   \n",
       "Humidity                        -0.632255                 -0.602571  1.000000   \n",
       "Wind Speed (km/h)                0.008957                 -0.056650 -0.224951   \n",
       "Wind Bearing (degrees)           0.029988                  0.029031  0.000735   \n",
       "Visibility (km)                  0.392847                  0.381718 -0.369173   \n",
       "Pressure (millibars)            -0.005447                 -0.000219  0.005454   \n",
       "\n",
       "                          Wind Speed (km/h)  Wind Bearing (degrees)  \\\n",
       "Temperature (C)                    0.008957                0.029988   \n",
       "Apparent Temperature (C)          -0.056650                0.029031   \n",
       "Humidity                          -0.224951                0.000735   \n",
       "Wind Speed (km/h)                  1.000000                0.103822   \n",
       "Wind Bearing (degrees)             0.103822                1.000000   \n",
       "Visibility (km)                    0.100749                0.047594   \n",
       "Pressure (millibars)              -0.049263               -0.011651   \n",
       "\n",
       "                          Visibility (km)  Pressure (millibars)  \n",
       "Temperature (C)                  0.392847             -0.005447  \n",
       "Apparent Temperature (C)         0.381718             -0.000219  \n",
       "Humidity                        -0.369173              0.005454  \n",
       "Wind Speed (km/h)                0.100749             -0.049263  \n",
       "Wind Bearing (degrees)           0.047594             -0.011651  \n",
       "Visibility (km)                  1.000000              0.059818  \n",
       "Pressure (millibars)             0.059818              1.000000  "
      ]
     },
     "execution_count": 26,
     "metadata": {},
     "output_type": "execute_result"
    }
   ],
   "source": [
    "df4=df3.drop(columns=[\"Year\",\"day\",\"Loud Cover\"])\n",
    "d_corr=df4.corr()\n",
    "d_corr"
   ]
  },
  {
   "cell_type": "code",
   "execution_count": 27,
   "id": "856f4d19",
   "metadata": {
    "execution": {
     "iopub.execute_input": "2022-02-20T19:21:18.577518Z",
     "iopub.status.busy": "2022-02-20T19:21:18.576833Z",
     "iopub.status.idle": "2022-02-20T19:21:19.318060Z",
     "shell.execute_reply": "2022-02-20T19:21:19.317397Z",
     "shell.execute_reply.started": "2022-02-20T19:20:15.435952Z"
    },
    "papermill": {
     "duration": 0.79778,
     "end_time": "2022-02-20T19:21:19.318199",
     "exception": false,
     "start_time": "2022-02-20T19:21:18.520419",
     "status": "completed"
    },
    "tags": []
   },
   "outputs": [
    {
     "data": {
      "text/plain": [
       "Text(0.5, 1.0, 'correlations heat map')"
      ]
     },
     "execution_count": 27,
     "metadata": {},
     "output_type": "execute_result"
    },
    {
     "data": {
      "image/png": "[encoded data removed]",
      "text/plain": [
       "<Figure size 1000x800 with 2 Axes>"
      ]
     },
     "metadata": {},
     "output_type": "display_data"
    }
   ],
   "source": [
    "fig,ax=plt.subplots(figsize=(10,8))\n",
    "sns.heatmap(d_corr,annot=True,cmap='magma_r',linewidths=0.2)\n",
    "plt.title(\"correlations heat map\")\n"
   ]
  }
 ],
 "metadata": {
  "kernelspec": {
   "display_name": "Python 3 (ipykernel)",
   "language": "python",
   "name": "python3"
  },
  "language_info": {
   "codemirror_mode": {
    "name": "ipython",
    "version": 3
   },
   "file_extension": ".py",
   "mimetype": "text/x-python",
   "name": "python",
   "nbconvert_exporter": "python",
   "pygments_lexer": "ipython3",
   "version": "3.9.13"
  },
  "papermill": {
   "default_parameters": {},
   "duration": 18.7284,
   "end_time": "2022-02-20T19:21:20.084869",
   "environment_variables": {},
   "exception": null,
   "input_path": "__notebook__.ipynb",
   "output_path": "__notebook__.ipynb",
   "parameters": {},
   "start_time": "2022-02-20T19:21:01.356469",
   "version": "2.3.3"
  }
 },
 "nbformat": 4,
 "nbformat_minor": 5
}
